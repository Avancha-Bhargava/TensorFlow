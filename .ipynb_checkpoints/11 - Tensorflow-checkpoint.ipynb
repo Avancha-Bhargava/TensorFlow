{
 "cells": [
  {
   "cell_type": "markdown",
   "metadata": {
    "id": "0ElpI5lHLqv8"
   },
   "source": [
    "# Hello Colab"
   ]
  },
  {
   "cell_type": "markdown",
   "metadata": {
    "id": "IhsZuiY9ad-U"
   },
   "source": [
    "To load data from your Google drive, first you need to mount Google drive. First, run the code below. Second, in order to get the authorization code, you should click on the link, choose your Google account, click on 'allow' and copy the code and paste it in the box below and press Enter. Once done it will show you \"Mounted at gdrive\". You know the Google drive is mounted once you see your folders on the left panel.\n",
    "\n",
    "\n",
    "\n",
    "\n",
    "\n"
   ]
  },
  {
   "cell_type": "code",
   "execution_count": null,
   "metadata": {
    "colab": {
     "base_uri": "https://localhost:8080/"
    },
    "executionInfo": {
     "elapsed": 29327,
     "status": "ok",
     "timestamp": 1652719464780,
     "user": {
      "displayName": "Behnaz G",
      "userId": "15627282811872666397"
     },
     "user_tz": 420
    },
    "id": "NxOJfwnMt-sc",
    "outputId": "54007089-ce05-4884-ca11-05281f81facc"
   },
   "outputs": [
    {
     "name": "stdout",
     "output_type": "stream",
     "text": [
      "Mounted at gdrive\n"
     ]
    }
   ],
   "source": [
    "from google.colab import drive\n",
    "drive.mount('gdrive')"
   ]
  },
  {
   "cell_type": "code",
   "execution_count": null,
   "metadata": {
    "colab": {
     "base_uri": "https://localhost:8080/"
    },
    "executionInfo": {
     "elapsed": 742,
     "status": "ok",
     "timestamp": 1652719472584,
     "user": {
      "displayName": "Behnaz G",
      "userId": "15627282811872666397"
     },
     "user_tz": 420
    },
    "id": "O_kKLLf3uwaK",
    "outputId": "91875c09-dfca-4df5-d194-e2704fffc5fc"
   },
   "outputs": [
    {
     "name": "stdout",
     "output_type": "stream",
     "text": [
      "Hello Collab!\n"
     ]
    }
   ],
   "source": [
    "# open a file\n",
    "myfile = open('gdrive/My Drive/Colab Notebooks/Data 6 - TF/test.txt')\n",
    "print(myfile.read())"
   ]
  },
  {
   "cell_type": "code",
   "execution_count": null,
   "metadata": {
    "id": "8638pee010Y9"
   },
   "outputs": [],
   "source": [
    "# tensorflow 1 is already installed by default\n",
    "# !pip install tensorflow==2\n",
    "# go to runtime, rsetart runtime!"
   ]
  },
  {
   "cell_type": "markdown",
   "metadata": {
    "id": "lG8F4AaigI5f"
   },
   "source": [
    "# 1) Import "
   ]
  },
  {
   "cell_type": "code",
   "execution_count": null,
   "metadata": {
    "id": "bUl20Z9l2Yq8"
   },
   "outputs": [],
   "source": [
    "import tensorflow as tf"
   ]
  },
  {
   "cell_type": "code",
   "execution_count": null,
   "metadata": {
    "colab": {
     "base_uri": "https://localhost:8080/",
     "height": 35
    },
    "executionInfo": {
     "elapsed": 163,
     "status": "ok",
     "timestamp": 1652719485128,
     "user": {
      "displayName": "Behnaz G",
      "userId": "15627282811872666397"
     },
     "user_tz": 420
    },
    "id": "DXk2d8A52ySO",
    "outputId": "07824004-4fb2-4361-913f-3a3fbcab2f01"
   },
   "outputs": [
    {
     "data": {
      "application/vnd.google.colaboratory.intrinsic+json": {
       "type": "string"
      },
      "text/plain": [
       "'2.8.0'"
      ]
     },
     "execution_count": 4,
     "metadata": {},
     "output_type": "execute_result"
    }
   ],
   "source": [
    "# check the version\n",
    "tf.__version__"
   ]
  },
  {
   "cell_type": "code",
   "execution_count": null,
   "metadata": {
    "id": "KwR0wxfxDvLr"
   },
   "outputs": [],
   "source": [
    "from tensorflow.keras.models import Sequential\n",
    "from tensorflow.keras.layers import Dense, Flatten, Dropout \n",
    "from tensorflow.keras import regularizers\n",
    "from tensorflow.keras.callbacks import Callback\n",
    "from tensorflow.keras.preprocessing import image"
   ]
  },
  {
   "cell_type": "code",
   "execution_count": null,
   "metadata": {
    "id": "rWNYn_VmWX5Y"
   },
   "outputs": [],
   "source": [
    "import numpy as np\n",
    "import pandas as pd\n",
    "import matplotlib.pyplot as plt\n",
    "%matplotlib inline"
   ]
  },
  {
   "cell_type": "markdown",
   "metadata": {
    "id": "CFp_nFFm6xDy"
   },
   "source": [
    "# 2) Load Data"
   ]
  },
  {
   "cell_type": "code",
   "execution_count": null,
   "metadata": {
    "colab": {
     "base_uri": "https://localhost:8080/"
    },
    "executionInfo": {
     "elapsed": 1336,
     "status": "ok",
     "timestamp": 1652719493718,
     "user": {
      "displayName": "Behnaz G",
      "userId": "15627282811872666397"
     },
     "user_tz": 420
    },
    "id": "dTnwaNYTIcEk",
    "outputId": "1c915790-da27-43e6-be1f-a3124f0fcca6"
   },
   "outputs": [
    {
     "name": "stdout",
     "output_type": "stream",
     "text": [
      "Downloading data from https://storage.googleapis.com/tensorflow/tf-keras-datasets/train-labels-idx1-ubyte.gz\n",
      "32768/29515 [=================================] - 0s 0us/step\n",
      "40960/29515 [=========================================] - 0s 0us/step\n",
      "Downloading data from https://storage.googleapis.com/tensorflow/tf-keras-datasets/train-images-idx3-ubyte.gz\n",
      "26427392/26421880 [==============================] - 0s 0us/step\n",
      "26435584/26421880 [==============================] - 0s 0us/step\n",
      "Downloading data from https://storage.googleapis.com/tensorflow/tf-keras-datasets/t10k-labels-idx1-ubyte.gz\n",
      "16384/5148 [===============================================================================================] - 0s 0us/step\n",
      "Downloading data from https://storage.googleapis.com/tensorflow/tf-keras-datasets/t10k-images-idx3-ubyte.gz\n",
      "4423680/4422102 [==============================] - 0s 0us/step\n",
      "4431872/4422102 [==============================] - 0s 0us/step\n"
     ]
    }
   ],
   "source": [
    "fashion_mnist_data = tf.keras.datasets.fashion_mnist\n",
    "(X_train, y_train), (X_test, y_test) = fashion_mnist_data.load_data()"
   ]
  },
  {
   "cell_type": "code",
   "execution_count": null,
   "metadata": {
    "colab": {
     "base_uri": "https://localhost:8080/"
    },
    "executionInfo": {
     "elapsed": 183,
     "status": "ok",
     "timestamp": 1652719524186,
     "user": {
      "displayName": "Behnaz G",
      "userId": "15627282811872666397"
     },
     "user_tz": 420
    },
    "id": "B0XxNSnvIc39",
    "outputId": "2e079c9e-3a38-4600-c863-54667440b75d"
   },
   "outputs": [
    {
     "name": "stdout",
     "output_type": "stream",
     "text": [
      "train X shape:  (60000, 28, 28)\n",
      "train y shape:  (60000,)\n",
      "test X shape:  (10000, 28, 28)\n",
      "test y shape:  (10000,)\n"
     ]
    }
   ],
   "source": [
    "print(\"train X shape: \", X_train.shape) # X_train: numpy array with shape: (num_samples_train, num_features)\n",
    "print(\"train y shape: \", y_train.shape) # y_train: numpy array with shape: (num_samples_train,) \n",
    "print(\"test X shape: \", X_test.shape)   # X_test: numpy array with shape: (num_samples_test, num_features)\n",
    "print(\"test y shape: \", y_test.shape)   # y_test: numpy array with shape: (num_samples_test,)"
   ]
  },
  {
   "cell_type": "markdown",
   "metadata": {
    "id": "zV4XuwpWIdG5"
   },
   "source": [
    "The labels are integers from 0 to 9, and each number represents a piece of clothes following the order in labels."
   ]
  },
  {
   "cell_type": "code",
   "execution_count": null,
   "metadata": {
    "colab": {
     "base_uri": "https://localhost:8080/"
    },
    "executionInfo": {
     "elapsed": 134,
     "status": "ok",
     "timestamp": 1652719542045,
     "user": {
      "displayName": "Behnaz G",
      "userId": "15627282811872666397"
     },
     "user_tz": 420
    },
    "id": "it9_9zb0IdTm",
    "outputId": "e78cc548-4cf8-441d-fdad-7cc2ab89f359"
   },
   "outputs": [
    {
     "name": "stdout",
     "output_type": "stream",
     "text": [
      "minimum train y value:  0\n",
      "maximum train y value:  9\n"
     ]
    }
   ],
   "source": [
    "print(\"minimum train y value: \", min(y_train))\n",
    "print(\"maximum train y value: \", max(y_train))"
   ]
  },
  {
   "cell_type": "code",
   "execution_count": null,
   "metadata": {
    "id": "SE6467TEIdfr"
   },
   "outputs": [],
   "source": [
    "# Define the labels\n",
    "\n",
    "labels = [\n",
    "    'T-shirt/top', # 0\n",
    "    'Trouser',     # 1\n",
    "    'Pullover',    # 2\n",
    "    'Dress',       # 3\n",
    "    'Coat',        # 4\n",
    "    'Sandal',      # 5\n",
    "    'Shirt',       # 6\n",
    "    'Sneaker',     # 7\n",
    "    'Bag',         # 8\n",
    "    'Ankle boot'   # 9\n",
    "]"
   ]
  },
  {
   "cell_type": "code",
   "execution_count": null,
   "metadata": {
    "colab": {
     "base_uri": "https://localhost:8080/",
     "height": 282
    },
    "executionInfo": {
     "elapsed": 395,
     "status": "ok",
     "timestamp": 1652719552014,
     "user": {
      "displayName": "Behnaz G",
      "userId": "15627282811872666397"
     },
     "user_tz": 420
    },
    "id": "wWjfYnKkIdr2",
    "outputId": "54393609-eba2-4209-f17c-419ac9a9ba60"
   },
   "outputs": [
    {
     "data": {
      "image/png": "[encoded data removed]",
      "text/plain": [
       "<Figure size 432x288 with 1 Axes>"
      ]
     },
     "metadata": {
      "needs_background": "light"
     },
     "output_type": "display_data"
    },
    {
     "name": "stdout",
     "output_type": "stream",
     "text": [
      "label: T-shirt/top\n"
     ]
    }
   ],
   "source": [
    "# Display one of the images\n",
    "\n",
    "i = 1\n",
    "img = X_train[i, : , :]\n",
    "plt.imshow(img)\n",
    "plt.show()\n",
    "print(f\"label: {labels[y_train[i]]}\")"
   ]
  },
  {
   "cell_type": "code",
   "execution_count": null,
   "metadata": {
    "colab": {
     "base_uri": "https://localhost:8080/"
    },
    "executionInfo": {
     "elapsed": 6,
     "status": "ok",
     "timestamp": 1652719554541,
     "user": {
      "displayName": "Behnaz G",
      "userId": "15627282811872666397"
     },
     "user_tz": 420
    },
    "id": "Q83MuprFJw0S",
    "outputId": "23cf4958-da89-40f5-d22f-f76160ea02f5"
   },
   "outputs": [
    {
     "data": {
      "text/plain": [
       "0"
      ]
     },
     "execution_count": 12,
     "metadata": {},
     "output_type": "execute_result"
    }
   ],
   "source": [
    "# display y label\n",
    "y_train[i]"
   ]
  },
  {
   "cell_type": "code",
   "execution_count": null,
   "metadata": {
    "id": "gOhc81IGI0z1"
   },
   "outputs": [],
   "source": [
    "# Rescale the image values so that they lie in between 0 and 1.\n",
    "\n",
    "X_train = X_train / 255.\n",
    "X_test = X_test / 255."
   ]
  },
  {
   "cell_type": "markdown",
   "metadata": {
    "id": "H4NdPJMVgVPa"
   },
   "source": [
    "# 3) Build Model (Sequential)"
   ]
  },
  {
   "cell_type": "markdown",
   "metadata": {
    "id": "91zky4emhjNA"
   },
   "source": [
    "Here, we build a NN model (feed forward) with one or more hidden layers. "
   ]
  },
  {
   "cell_type": "markdown",
   "metadata": {
    "id": "udEycVEOQHmM"
   },
   "source": [
    "## Examples"
   ]
  },
  {
   "cell_type": "code",
   "execution_count": null,
   "metadata": {
    "id": "8mRUSOniOa4w"
   },
   "outputs": [],
   "source": [
    "# example 1\n",
    "\n",
    "# building a NN model \n",
    "# the input layer with 16 units\n",
    "# one hidden layer, with 64 units, with a relu activation function.\n",
    "# the output layer is binary with a sigmoid activation function.\n",
    "\n",
    "model1 = Sequential([\n",
    "                    Dense(64, activation = 'relu', input_shape = (16,)),\n",
    "                    Dense(1, activation = 'sigmoid')\n",
    "])"
   ]
  },
  {
   "cell_type": "markdown",
   "metadata": {
    "id": "CgNPZ5UyN7BV"
   },
   "source": [
    "Note: If you don't specify the activation function, it will be linear."
   ]
  },
  {
   "cell_type": "markdown",
   "metadata": {
    "id": "DbkaDC6CO4v7"
   },
   "source": [
    "Read more about other activation choices here: https://www.tensorflow.org/api_docs/python/tf/keras/activations"
   ]
  },
  {
   "cell_type": "markdown",
   "metadata": {
    "id": "sWARuuq5LKnz"
   },
   "source": [
    "Let's take a look at the model we just bulit:"
   ]
  },
  {
   "cell_type": "code",
   "execution_count": null,
   "metadata": {
    "colab": {
     "base_uri": "https://localhost:8080/"
    },
    "executionInfo": {
     "elapsed": 163,
     "status": "ok",
     "timestamp": 1652719562306,
     "user": {
      "displayName": "Behnaz G",
      "userId": "15627282811872666397"
     },
     "user_tz": 420
    },
    "id": "5Ebd_q5yLOJc",
    "outputId": "037270b2-191b-4d32-d5ab-dda08eb50740"
   },
   "outputs": [
    {
     "name": "stdout",
     "output_type": "stream",
     "text": [
      "Model: \"sequential\"\n",
      "_________________________________________________________________\n",
      " Layer (type)                Output Shape              Param #   \n",
      "=================================================================\n",
      " dense (Dense)               (None, 64)                1088      \n",
      "                                                                 \n",
      " dense_1 (Dense)             (None, 1)                 65        \n",
      "                                                                 \n",
      "=================================================================\n",
      "Total params: 1,153\n",
      "Trainable params: 1,153\n",
      "Non-trainable params: 0\n",
      "_________________________________________________________________\n"
     ]
    }
   ],
   "source": [
    "model1.summary()"
   ]
  },
  {
   "cell_type": "code",
   "execution_count": null,
   "metadata": {
    "colab": {
     "base_uri": "https://localhost:8080/"
    },
    "executionInfo": {
     "elapsed": 142,
     "status": "ok",
     "timestamp": 1652141254105,
     "user": {
      "displayName": "Behnaz G",
      "userId": "15627282811872666397"
     },
     "user_tz": 420
    },
    "id": "Q20XPdFUSmsR",
    "outputId": "96ba7c02-a292-4ac0-fcfd-961bab9ca113"
   },
   "outputs": [
    {
     "data": {
      "text/plain": [
       "1088"
      ]
     },
     "execution_count": 20,
     "metadata": {},
     "output_type": "execute_result"
    }
   ],
   "source": [
    "16*64+64"
   ]
  },
  {
   "cell_type": "markdown",
   "metadata": {
    "id": "4zove5MfLS45"
   },
   "source": [
    "We can also take a look at the value of initial weights and biases:"
   ]
  },
  {
   "cell_type": "code",
   "execution_count": null,
   "metadata": {
    "colab": {
     "base_uri": "https://localhost:8080/"
    },
    "executionInfo": {
     "elapsed": 201,
     "status": "ok",
     "timestamp": 1652141402388,
     "user": {
      "displayName": "Behnaz G",
      "userId": "15627282811872666397"
     },
     "user_tz": 420
    },
    "id": "NLEB7bfULTLe",
    "outputId": "ca798f99-82e0-4741-acee-f1682bb5d500"
   },
   "outputs": [
    {
     "data": {
      "text/plain": [
       "[<tf.Variable 'dense/kernel:0' shape=(16, 64) dtype=float32, numpy=\n",
       " array([[ 0.24701482, -0.09362988, -0.11355801, ..., -0.19530237,\n",
       "         -0.11552583, -0.03904866],\n",
       "        [-0.06130385, -0.2477983 , -0.10319409, ...,  0.08270174,\n",
       "         -0.16486299, -0.0740301 ],\n",
       "        [-0.2190601 ,  0.23294616, -0.06367891, ..., -0.15074894,\n",
       "          0.26190346, -0.25852826],\n",
       "        ...,\n",
       "        [-0.04916851, -0.15190065,  0.25837868, ...,  0.10220233,\n",
       "          0.0032379 ,  0.27003098],\n",
       "        [-0.2380491 ,  0.11730024, -0.2060269 , ..., -0.06276023,\n",
       "         -0.13039221,  0.14142644],\n",
       "        [-0.20246193, -0.23518011, -0.23135632, ...,  0.26518375,\n",
       "         -0.07136463,  0.1855185 ]], dtype=float32)>,\n",
       " <tf.Variable 'dense/bias:0' shape=(64,) dtype=float32, numpy=\n",
       " array([0., 0., 0., 0., 0., 0., 0., 0., 0., 0., 0., 0., 0., 0., 0., 0., 0.,\n",
       "        0., 0., 0., 0., 0., 0., 0., 0., 0., 0., 0., 0., 0., 0., 0., 0., 0.,\n",
       "        0., 0., 0., 0., 0., 0., 0., 0., 0., 0., 0., 0., 0., 0., 0., 0., 0.,\n",
       "        0., 0., 0., 0., 0., 0., 0., 0., 0., 0., 0., 0., 0.], dtype=float32)>,\n",
       " <tf.Variable 'dense_1/kernel:0' shape=(64, 1) dtype=float32, numpy=\n",
       " array([[ 0.15785527],\n",
       "        [-0.2778383 ],\n",
       "        [-0.21321051],\n",
       "        [ 0.24190259],\n",
       "        [ 0.25501722],\n",
       "        [ 0.29965127],\n",
       "        [-0.08358644],\n",
       "        [-0.02727541],\n",
       "        [ 0.2986213 ],\n",
       "        [ 0.18668845],\n",
       "        [-0.06702971],\n",
       "        [ 0.27182966],\n",
       "        [-0.17811026],\n",
       "        [-0.09461443],\n",
       "        [-0.19923203],\n",
       "        [-0.2173799 ],\n",
       "        [-0.23511459],\n",
       "        [ 0.28048116],\n",
       "        [-0.17575665],\n",
       "        [ 0.2780943 ],\n",
       "        [-0.29843923],\n",
       "        [-0.16436292],\n",
       "        [-0.11146511],\n",
       "        [ 0.0843395 ],\n",
       "        [ 0.19814849],\n",
       "        [ 0.18954027],\n",
       "        [ 0.29063833],\n",
       "        [-0.24512875],\n",
       "        [-0.01596048],\n",
       "        [ 0.01994807],\n",
       "        [ 0.0568901 ],\n",
       "        [-0.05417322],\n",
       "        [ 0.2261349 ],\n",
       "        [-0.13995999],\n",
       "        [ 0.06236094],\n",
       "        [ 0.25586373],\n",
       "        [-0.09153312],\n",
       "        [-0.22007868],\n",
       "        [ 0.01146644],\n",
       "        [-0.04786593],\n",
       "        [ 0.06808332],\n",
       "        [-0.03344405],\n",
       "        [-0.00046641],\n",
       "        [-0.2778635 ],\n",
       "        [-0.03878823],\n",
       "        [-0.05132318],\n",
       "        [ 0.15118161],\n",
       "        [ 0.2839287 ],\n",
       "        [-0.18305509],\n",
       "        [-0.06718169],\n",
       "        [-0.05857331],\n",
       "        [ 0.07785127],\n",
       "        [-0.12425368],\n",
       "        [-0.05809812],\n",
       "        [ 0.1657719 ],\n",
       "        [-0.05533038],\n",
       "        [-0.2427356 ],\n",
       "        [-0.2729791 ],\n",
       "        [-0.01163414],\n",
       "        [-0.25732732],\n",
       "        [ 0.22231609],\n",
       "        [-0.1163559 ],\n",
       "        [-0.0083214 ],\n",
       "        [ 0.06189612]], dtype=float32)>,\n",
       " <tf.Variable 'dense_1/bias:0' shape=(1,) dtype=float32, numpy=array([0.], dtype=float32)>]"
      ]
     },
     "execution_count": 21,
     "metadata": {},
     "output_type": "execute_result"
    }
   ],
   "source": [
    "model1.weights"
   ]
  },
  {
   "cell_type": "markdown",
   "metadata": {
    "id": "Lq3IKkO8OrbK"
   },
   "source": [
    "An alternative way to build sequential models:"
   ]
  },
  {
   "cell_type": "code",
   "execution_count": null,
   "metadata": {
    "id": "ejbPp3PBOrve"
   },
   "outputs": [],
   "source": [
    "# example 1 - alternative method:\n",
    "\n",
    "# building a NN model \n",
    "# the input layer with 16 units\n",
    "# one hidden layer, with 64 units, with a relu activation function.\n",
    "# the output layer is binary with a sigmoid activation function.\n",
    "\n",
    "model1 = Sequential()\n",
    "model1.add(Dense(64, activation = 'relu', input_shape = (16,)))\n",
    "model1.add(Dense(1, activation = 'sigmoid'))\n",
    "\n",
    "# model.add append additional layers to the model"
   ]
  },
  {
   "cell_type": "code",
   "execution_count": null,
   "metadata": {
    "colab": {
     "base_uri": "https://localhost:8080/"
    },
    "executionInfo": {
     "elapsed": 209,
     "status": "ok",
     "timestamp": 1652218599550,
     "user": {
      "displayName": "Behnaz G",
      "userId": "15627282811872666397"
     },
     "user_tz": 420
    },
    "id": "7pL37medRHSz",
    "outputId": "44141aeb-24b0-451e-8e9a-f822ba59dec8"
   },
   "outputs": [
    {
     "name": "stdout",
     "output_type": "stream",
     "text": [
      "Model: \"sequential_1\"\n",
      "_________________________________________________________________\n",
      " Layer (type)                Output Shape              Param #   \n",
      "=================================================================\n",
      " dense_2 (Dense)             (None, 64)                1088      \n",
      "                                                                 \n",
      " dense_3 (Dense)             (None, 1)                 65        \n",
      "                                                                 \n",
      "=================================================================\n",
      "Total params: 1,153\n",
      "Trainable params: 1,153\n",
      "Non-trainable params: 0\n",
      "_________________________________________________________________\n"
     ]
    }
   ],
   "source": [
    "model1.summary()"
   ]
  },
  {
   "cell_type": "markdown",
   "metadata": {
    "id": "XG0VQyz2_6km"
   },
   "source": [
    "More examples:"
   ]
  },
  {
   "cell_type": "code",
   "execution_count": null,
   "metadata": {
    "id": "7fT-vboV3glB"
   },
   "outputs": [],
   "source": [
    "# example 2\n",
    "\n",
    "# building a NN model \n",
    "# the input layer with 16 units\n",
    "# one hidden layer, with 32 units, with a relu activation function.\n",
    "# the output layer is multi-class with 10 classes (activation function is softmax).\n",
    "\n",
    "model2 = Sequential([\n",
    "                    Dense(32, activation = 'relu', input_shape = (16,)),\n",
    "                    Dense(10, activation = 'softmax')\n",
    "])"
   ]
  },
  {
   "cell_type": "code",
   "execution_count": null,
   "metadata": {
    "colab": {
     "base_uri": "https://localhost:8080/"
    },
    "executionInfo": {
     "elapsed": 198,
     "status": "ok",
     "timestamp": 1652218661924,
     "user": {
      "displayName": "Behnaz G",
      "userId": "15627282811872666397"
     },
     "user_tz": 420
    },
    "id": "miho1IyUD6f4",
    "outputId": "afbd7a64-6d17-4bdc-a6c1-7a4c9b72c2a7"
   },
   "outputs": [
    {
     "name": "stdout",
     "output_type": "stream",
     "text": [
      "Model: \"sequential_2\"\n",
      "_________________________________________________________________\n",
      " Layer (type)                Output Shape              Param #   \n",
      "=================================================================\n",
      " dense_4 (Dense)             (None, 32)                544       \n",
      "                                                                 \n",
      " dense_5 (Dense)             (None, 10)                330       \n",
      "                                                                 \n",
      "=================================================================\n",
      "Total params: 874\n",
      "Trainable params: 874\n",
      "Non-trainable params: 0\n",
      "_________________________________________________________________\n"
     ]
    }
   ],
   "source": [
    "model2.summary()"
   ]
  },
  {
   "cell_type": "code",
   "execution_count": null,
   "metadata": {
    "colab": {
     "base_uri": "https://localhost:8080/"
    },
    "executionInfo": {
     "elapsed": 170,
     "status": "ok",
     "timestamp": 1652218747754,
     "user": {
      "displayName": "Behnaz G",
      "userId": "15627282811872666397"
     },
     "user_tz": 420
    },
    "id": "9HM6r9qN6QNs",
    "outputId": "8c2b4907-42e4-4d87-d8ed-56bcdc57778d"
   },
   "outputs": [
    {
     "data": {
      "text/plain": [
       "544"
      ]
     },
     "execution_count": 22,
     "metadata": {},
     "output_type": "execute_result"
    }
   ],
   "source": [
    "16*32+32"
   ]
  },
  {
   "cell_type": "code",
   "execution_count": null,
   "metadata": {
    "colab": {
     "base_uri": "https://localhost:8080/"
    },
    "executionInfo": {
     "elapsed": 141,
     "status": "ok",
     "timestamp": 1652218773500,
     "user": {
      "displayName": "Behnaz G",
      "userId": "15627282811872666397"
     },
     "user_tz": 420
    },
    "id": "rJfM71Ak6Wwb",
    "outputId": "f05edab0-06fe-4136-8a6f-2a0f8c77ddfa"
   },
   "outputs": [
    {
     "data": {
      "text/plain": [
       "330"
      ]
     },
     "execution_count": 23,
     "metadata": {},
     "output_type": "execute_result"
    }
   ],
   "source": [
    "32*10+10"
   ]
  },
  {
   "cell_type": "code",
   "execution_count": null,
   "metadata": {
    "id": "Lu-FjI6B3jwO"
   },
   "outputs": [],
   "source": [
    "# example 3\n",
    "\n",
    "# building a NN model \n",
    "# the input layer with 16 units\n",
    "# first hidden layer, with 32 units, with a relu activation function.\n",
    "# second hidden layer, with 8 units, with a relu activation function.\n",
    "# the output layer is binary with a sigmoid activation function.\n",
    "\n",
    "model3 = Sequential([\n",
    "                    Dense(32, activation = 'relu', input_shape = (16,)),\n",
    "                    Dense(8, activation = 'relu'),\n",
    "                    Dense(1, activation = 'sigmoid')\n",
    "])"
   ]
  },
  {
   "cell_type": "code",
   "execution_count": null,
   "metadata": {
    "colab": {
     "base_uri": "https://localhost:8080/"
    },
    "executionInfo": {
     "elapsed": 177,
     "status": "ok",
     "timestamp": 1652218806267,
     "user": {
      "displayName": "Behnaz G",
      "userId": "15627282811872666397"
     },
     "user_tz": 420
    },
    "id": "xl8b96vaD81H",
    "outputId": "49c12a02-39b6-42bd-9ec6-53accf5f9d8e"
   },
   "outputs": [
    {
     "name": "stdout",
     "output_type": "stream",
     "text": [
      "Model: \"sequential_3\"\n",
      "_________________________________________________________________\n",
      " Layer (type)                Output Shape              Param #   \n",
      "=================================================================\n",
      " dense_6 (Dense)             (None, 32)                544       \n",
      "                                                                 \n",
      " dense_7 (Dense)             (None, 8)                 264       \n",
      "                                                                 \n",
      " dense_8 (Dense)             (None, 1)                 9         \n",
      "                                                                 \n",
      "=================================================================\n",
      "Total params: 817\n",
      "Trainable params: 817\n",
      "Non-trainable params: 0\n",
      "_________________________________________________________________\n"
     ]
    }
   ],
   "source": [
    "model3.summary()"
   ]
  },
  {
   "cell_type": "code",
   "execution_count": null,
   "metadata": {
    "id": "fR3Ag2y6Czxi"
   },
   "outputs": [],
   "source": [
    "# example 4\n",
    "\n",
    "# building a NN model\n",
    "# the input layer with 16 units\n",
    "# no hidden layers\n",
    "# the output layer is binary with a sigmoid activation function.\n",
    "\n",
    "model4 = Sequential([\n",
    "                    Dense(1, activation = 'sigmoid', input_shape = (16,))\n",
    "])"
   ]
  },
  {
   "cell_type": "code",
   "execution_count": null,
   "metadata": {
    "colab": {
     "base_uri": "https://localhost:8080/"
    },
    "executionInfo": {
     "elapsed": 232,
     "status": "ok",
     "timestamp": 1652218845518,
     "user": {
      "displayName": "Behnaz G",
      "userId": "15627282811872666397"
     },
     "user_tz": 420
    },
    "id": "kfQ9wxibD-oo",
    "outputId": "c778bd65-9e73-443c-bb5e-28014cd108bb"
   },
   "outputs": [
    {
     "name": "stdout",
     "output_type": "stream",
     "text": [
      "Model: \"sequential_4\"\n",
      "_________________________________________________________________\n",
      " Layer (type)                Output Shape              Param #   \n",
      "=================================================================\n",
      " dense_9 (Dense)             (None, 1)                 17        \n",
      "                                                                 \n",
      "=================================================================\n",
      "Total params: 17\n",
      "Trainable params: 17\n",
      "Non-trainable params: 0\n",
      "_________________________________________________________________\n"
     ]
    }
   ],
   "source": [
    "model4.summary()"
   ]
  },
  {
   "cell_type": "markdown",
   "metadata": {
    "id": "fMjpUJNbl1mD"
   },
   "source": [
    "If the input shape is two-dimensional, we can flatten it and unroll it into a long one-dimensional vector first:"
   ]
  },
  {
   "cell_type": "code",
   "execution_count": null,
   "metadata": {
    "id": "c5YhtRNdEk5g"
   },
   "outputs": [],
   "source": [
    "# example 5:\n",
    "\n",
    "# building a NN model \n",
    "# the input layer with input_shape (4, 4)\n",
    "# one hidden layer, with 64 units, with a relu activation function.\n",
    "# the output layer is binary with a sigmoid activation function.\n",
    "\n",
    "model5 = Sequential([\n",
    "                    Flatten(input_shape = (4, 4)), #(16,)\n",
    "                    Dense(64, activation = 'relu'),\n",
    "                    Dense(1, activation = 'sigmoid')\n",
    "])"
   ]
  },
  {
   "cell_type": "code",
   "execution_count": null,
   "metadata": {
    "colab": {
     "base_uri": "https://localhost:8080/"
    },
    "executionInfo": {
     "elapsed": 165,
     "status": "ok",
     "timestamp": 1652218976845,
     "user": {
      "displayName": "Behnaz G",
      "userId": "15627282811872666397"
     },
     "user_tz": 420
    },
    "id": "3Qm7xiq-PKNu",
    "outputId": "e125297e-fb45-4f9e-84ab-3df7279768be"
   },
   "outputs": [
    {
     "name": "stdout",
     "output_type": "stream",
     "text": [
      "Model: \"sequential_5\"\n",
      "_________________________________________________________________\n",
      " Layer (type)                Output Shape              Param #   \n",
      "=================================================================\n",
      " flatten (Flatten)           (None, 16)                0         \n",
      "                                                                 \n",
      " dense_10 (Dense)            (None, 64)                1088      \n",
      "                                                                 \n",
      " dense_11 (Dense)            (None, 1)                 65        \n",
      "                                                                 \n",
      "=================================================================\n",
      "Total params: 1,153\n",
      "Trainable params: 1,153\n",
      "Non-trainable params: 0\n",
      "_________________________________________________________________\n"
     ]
    }
   ],
   "source": [
    "model5.summary()"
   ]
  },
  {
   "cell_type": "markdown",
   "metadata": {
    "id": "yVPxHYusnDoY"
   },
   "source": [
    "We can define a name for each layer:"
   ]
  },
  {
   "cell_type": "code",
   "execution_count": null,
   "metadata": {
    "id": "UuL9xQ6A4K-_"
   },
   "outputs": [],
   "source": [
    "# example 5 - define names for each layer:\n",
    "\n",
    "# building a NN model \n",
    "# the input layer with input_shape (4, 4)\n",
    "# one hidden layer, with 64 units, with a relu activation function.\n",
    "# the output layer is binary with a sigmoid activation function.\n",
    "\n",
    "model5 = Sequential([\n",
    "                    Flatten(input_shape = (4, 4), name = 'layer_0'), \n",
    "                    Dense(64, activation = 'relu', name = 'layer_1'),\n",
    "                    Dense(1, activation = 'sigmoid', name = 'layer_2')\n",
    "])"
   ]
  },
  {
   "cell_type": "code",
   "execution_count": null,
   "metadata": {
    "colab": {
     "base_uri": "https://localhost:8080/"
    },
    "executionInfo": {
     "elapsed": 192,
     "status": "ok",
     "timestamp": 1652219055902,
     "user": {
      "displayName": "Behnaz G",
      "userId": "15627282811872666397"
     },
     "user_tz": 420
    },
    "id": "CF3d64wGPFJ8",
    "outputId": "d677e39d-092a-4d1b-b338-f6fb93a2e126"
   },
   "outputs": [
    {
     "name": "stdout",
     "output_type": "stream",
     "text": [
      "Model: \"sequential_6\"\n",
      "_________________________________________________________________\n",
      " Layer (type)                Output Shape              Param #   \n",
      "=================================================================\n",
      " layer_0 (Flatten)           (None, 16)                0         \n",
      "                                                                 \n",
      " layer_1 (Dense)             (None, 64)                1088      \n",
      "                                                                 \n",
      " layer_2 (Dense)             (None, 1)                 65        \n",
      "                                                                 \n",
      "=================================================================\n",
      "Total params: 1,153\n",
      "Trainable params: 1,153\n",
      "Non-trainable params: 0\n",
      "_________________________________________________________________\n"
     ]
    }
   ],
   "source": [
    "model5.summary()"
   ]
  },
  {
   "cell_type": "markdown",
   "metadata": {
    "id": "rZ4gGEuVOJph"
   },
   "source": [
    "## For our dataset"
   ]
  },
  {
   "cell_type": "code",
   "execution_count": null,
   "metadata": {
    "id": "RJZrt4fJOKVz"
   },
   "outputs": [],
   "source": [
    "# build the model\n",
    "\n",
    "# the input layer with input_shape (28, 28)\n",
    "# one hidden layer, with 64 units, with a relu activation function.\n",
    "# the output layer is multi-class with 10 classes (activation function is softmax).\n",
    "\n",
    "model = Sequential([\n",
    "                    Flatten(input_shape = (28, 28)),\n",
    "                    Dense(64, activation = 'relu'),\n",
    "                    Dense(10, activation = 'softmax')\n",
    "])"
   ]
  },
  {
   "cell_type": "code",
   "execution_count": null,
   "metadata": {
    "colab": {
     "base_uri": "https://localhost:8080/"
    },
    "executionInfo": {
     "elapsed": 163,
     "status": "ok",
     "timestamp": 1652219123009,
     "user": {
      "displayName": "Behnaz G",
      "userId": "15627282811872666397"
     },
     "user_tz": 420
    },
    "id": "LwfovRv7OVJx",
    "outputId": "12077d5d-1dd2-4782-cb83-10471fcf1a5a"
   },
   "outputs": [
    {
     "name": "stdout",
     "output_type": "stream",
     "text": [
      "Model: \"sequential_7\"\n",
      "_________________________________________________________________\n",
      " Layer (type)                Output Shape              Param #   \n",
      "=================================================================\n",
      " flatten_1 (Flatten)         (None, 784)               0         \n",
      "                                                                 \n",
      " dense_12 (Dense)            (None, 64)                50240     \n",
      "                                                                 \n",
      " dense_13 (Dense)            (None, 10)                650       \n",
      "                                                                 \n",
      "=================================================================\n",
      "Total params: 50,890\n",
      "Trainable params: 50,890\n",
      "Non-trainable params: 0\n",
      "_________________________________________________________________\n"
     ]
    }
   ],
   "source": [
    "model.summary()"
   ]
  },
  {
   "cell_type": "markdown",
   "metadata": {
    "id": "nZQ4ovbjnbTN"
   },
   "source": [
    "# 4) Start Training (Compile)"
   ]
  },
  {
   "cell_type": "markdown",
   "metadata": {
    "id": "9qX96Uv9nhDI"
   },
   "source": [
    "To start training our network on data, we need to define the optimization algorithm, and a loss function that will give us a measure of our model's performance. Also we define a set of metrics that we want to keep track of as the model is training. These metrics will be calculated for each epoch of training along with the evaluation of the loss function on the training data."
   ]
  },
  {
   "cell_type": "markdown",
   "metadata": {
    "id": "_QZL4pMeQT_u"
   },
   "source": [
    "## Examples"
   ]
  },
  {
   "cell_type": "code",
   "execution_count": null,
   "metadata": {
    "id": "j_36USUimhR-"
   },
   "outputs": [],
   "source": [
    "# example 1:\n",
    "model1 = Sequential([\n",
    "                    Dense(64, activation = 'relu', input_shape = (16,)),\n",
    "                    Dense(1, activation = 'sigmoid')\n",
    "])\n",
    "\n",
    "model1.compile(\n",
    "    optimizer = 'adam',  \n",
    "    loss = 'binary_crossentropy', \n",
    "    metrics = ['binary_accuracy'] \n",
    ")"
   ]
  },
  {
   "cell_type": "markdown",
   "metadata": {
    "id": "_5_SLlHl7f7Y"
   },
   "source": [
    "Read more about other optimizer choices here: https://www.tensorflow.org/api_docs/python/tf/keras/optimizers/\n",
    "\n",
    "Read more about other loss choices here: https://www.tensorflow.org/api_docs/python/tf/keras/losses\n",
    "\n",
    "Read more about other metrics choices here: https://www.tensorflow.org/api_docs/python/tf/keras/metrics"
   ]
  },
  {
   "cell_type": "markdown",
   "metadata": {
    "id": "IjHQE8rakpTQ"
   },
   "source": [
    "Each of the strings in the code above is a reference to another object or function and we can always use that object or function directly:"
   ]
  },
  {
   "cell_type": "code",
   "execution_count": null,
   "metadata": {
    "id": "K0SWQ93Kkw7m"
   },
   "outputs": [],
   "source": [
    "# example 1 - alternative compile method:\n",
    "\n",
    "model1.compile(\n",
    "    optimizer = tf.keras.optimizers.Adam(),\n",
    "    loss = tf.keras.losses.BinaryCrossentropy(),\n",
    "    metrics = [tf.keras.metrics.BinaryAccuracy()]\n",
    ")"
   ]
  },
  {
   "cell_type": "markdown",
   "metadata": {
    "id": "zgi6n00dlmmS"
   },
   "source": [
    "The reason why you might want to use the code above is because it gives you greater flexibility as many of these objects and functions themselves have options that you might want to have control over."
   ]
  },
  {
   "cell_type": "code",
   "execution_count": null,
   "metadata": {
    "id": "hPeZrOXYlsj8"
   },
   "outputs": [],
   "source": [
    "# example 1 - we can change the default parameters\n",
    "\n",
    "model1.compile(\n",
    "    optimizer = tf.keras.optimizers.Adam(learning_rate=0.003, beta_1=0.9, beta_2=0.999, epsilon=1e-07), # the default values.\n",
    "    loss = tf.keras.losses.BinaryCrossentropy(from_logits=True),          # use sigmoid activation, if in the final hidden layer, we do not specify an activation function or define a linear one.\n",
    "    metrics = [tf.keras.metrics.BinaryAccuracy(threshold=0.5)]            # default is 0.5 (the threshold for predictions to be classed as positive).\n",
    ")"
   ]
  },
  {
   "cell_type": "markdown",
   "metadata": {
    "id": "j6wfe9T6__fj"
   },
   "source": [
    "More examples:"
   ]
  },
  {
   "cell_type": "code",
   "execution_count": null,
   "metadata": {
    "id": "fKv7rSRpAby9"
   },
   "outputs": [],
   "source": [
    "# example 2\n",
    "\n",
    "# building a NN model \n",
    "# the input layer with 16 units\n",
    "# one hidden layer, with 64 units, with a relu activation function.\n",
    "# the output layer is multi-class with 10 classes (activation function is softmax).\n",
    "\n",
    "model2 = Sequential([\n",
    "                    Dense(64, activation = 'relu', input_shape = (16,)),\n",
    "                    Dense(10, activation = 'softmax')\n",
    "])\n",
    "\n",
    "model2.compile(\n",
    "    optimizer = 'rmsprop', \n",
    "    loss = 'categorical_crossentropy', \n",
    "    metrics = ['categorical_accuracy', 'mae']\n",
    ")"
   ]
  },
  {
   "cell_type": "markdown",
   "metadata": {
    "id": "z3O51IJHKNWZ"
   },
   "source": [
    "## For our dataset"
   ]
  },
  {
   "cell_type": "code",
   "execution_count": null,
   "metadata": {
    "id": "M6Q2Jb7sNVhQ"
   },
   "outputs": [],
   "source": [
    "# for our data set:\n",
    "\n",
    "model = Sequential([\n",
    "                    Flatten(input_shape = (28, 28)),\n",
    "                    Dense(64, activation = 'relu'),\n",
    "                    Dense(10, activation = 'softmax')\n",
    "])\n",
    "\n",
    "\n",
    "model.compile(\n",
    "    optimizer = tf.keras.optimizers.Adam(learning_rate = 0.005),\n",
    "    loss = 'sparse_categorical_crossentropy', # Use this loss function when the y labels are integers. \n",
    "    metrics = [tf.keras.metrics.SparseCategoricalAccuracy()] # Use this accuracy when the y labels are integers.\n",
    ")"
   ]
  },
  {
   "cell_type": "markdown",
   "metadata": {
    "id": "ZkIizf6aPbsJ"
   },
   "source": [
    "An alternative compile method:"
   ]
  },
  {
   "cell_type": "code",
   "execution_count": null,
   "metadata": {
    "id": "CwC4eh6IXMkl"
   },
   "outputs": [],
   "source": [
    "# for our data set - alternative compile method:\n",
    "\n",
    "opt = tf.keras.optimizers.Adam(learning_rate = 0.005)\n",
    "acc = tf.keras.metrics.SparseCategoricalAccuracy()\n",
    "\n",
    "model.compile(\n",
    "    optimizer = opt,\n",
    "    loss = 'sparse_categorical_crossentropy', \n",
    "    metrics = [acc]\n",
    ")"
   ]
  },
  {
   "cell_type": "markdown",
   "metadata": {
    "id": "_vTxGDNyYnBB"
   },
   "source": [
    "# 5) Model Fit"
   ]
  },
  {
   "cell_type": "markdown",
   "metadata": {
    "id": "0U_qFaJnYr2T"
   },
   "source": [
    "Calling model.fit returns a TensorFlow history object. This object contains a record of the progress of the network during training in terms of the loss and the metrics that we defined when we compiled the model."
   ]
  },
  {
   "cell_type": "code",
   "execution_count": null,
   "metadata": {
    "colab": {
     "base_uri": "https://localhost:8080/"
    },
    "executionInfo": {
     "elapsed": 640,
     "status": "ok",
     "timestamp": 1621382789352,
     "user": {
      "displayName": "Behnaz G",
      "photoUrl": "",
      "userId": "15627282811872666397"
     },
     "user_tz": 420
    },
    "id": "cWlki4PM8dPm",
    "outputId": "b6bc6566-496b-45b5-cf03-7d5b43d87e51"
   },
   "outputs": [
    {
     "data": {
      "text/plain": [
       "(60000, 28, 28)"
      ]
     },
     "execution_count": 38,
     "metadata": {
      "tags": []
     },
     "output_type": "execute_result"
    }
   ],
   "source": [
    "X_train.shape"
   ]
  },
  {
   "cell_type": "code",
   "execution_count": null,
   "metadata": {
    "colab": {
     "base_uri": "https://localhost:8080/"
    },
    "executionInfo": {
     "elapsed": 288,
     "status": "ok",
     "timestamp": 1621383423370,
     "user": {
      "displayName": "Behnaz G",
      "photoUrl": "",
      "userId": "15627282811872666397"
     },
     "user_tz": 420
    },
    "id": "ijHstY8R-3xT",
    "outputId": "1eed1419-ba01-487d-a8bc-0a62d08a1067"
   },
   "outputs": [
    {
     "data": {
      "text/plain": [
       "60160"
      ]
     },
     "execution_count": 45,
     "metadata": {
      "tags": []
     },
     "output_type": "execute_result"
    }
   ],
   "source": [
    "1 epoch = (for 235 mini-batch) *(256 images in each mini batch)"
   ]
  },
  {
   "cell_type": "code",
   "execution_count": null,
   "metadata": {
    "colab": {
     "base_uri": "https://localhost:8080/"
    },
    "executionInfo": {
     "elapsed": 8647,
     "status": "ok",
     "timestamp": 1652719628374,
     "user": {
      "displayName": "Behnaz G",
      "userId": "15627282811872666397"
     },
     "user_tz": 420
    },
    "id": "_8j8gKtyYsnz",
    "outputId": "8c830477-27e3-4de8-f124-6b9480718e41"
   },
   "outputs": [
    {
     "name": "stdout",
     "output_type": "stream",
     "text": [
      "Epoch 1/8\n",
      "235/235 - 1s - loss: 0.5566 - sparse_categorical_accuracy: 0.8053 - 1s/epoch - 6ms/step\n",
      "Epoch 2/8\n",
      "235/235 - 1s - loss: 0.4035 - sparse_categorical_accuracy: 0.8560 - 1s/epoch - 4ms/step\n",
      "Epoch 3/8\n",
      "235/235 - 1s - loss: 0.3617 - sparse_categorical_accuracy: 0.8695 - 969ms/epoch - 4ms/step\n",
      "Epoch 4/8\n",
      "235/235 - 1s - loss: 0.3378 - sparse_categorical_accuracy: 0.8772 - 961ms/epoch - 4ms/step\n",
      "Epoch 5/8\n",
      "235/235 - 1s - loss: 0.3255 - sparse_categorical_accuracy: 0.8795 - 957ms/epoch - 4ms/step\n",
      "Epoch 6/8\n",
      "235/235 - 1s - loss: 0.3143 - sparse_categorical_accuracy: 0.8848 - 967ms/epoch - 4ms/step\n",
      "Epoch 7/8\n",
      "235/235 - 1s - loss: 0.2975 - sparse_categorical_accuracy: 0.8907 - 954ms/epoch - 4ms/step\n",
      "Epoch 8/8\n",
      "235/235 - 1s - loss: 0.2886 - sparse_categorical_accuracy: 0.8932 - 952ms/epoch - 4ms/step\n"
     ]
    }
   ],
   "source": [
    "# fit the model\n",
    "\n",
    "history = model.fit(X_train, y_train, epochs = 8, batch_size = 256, verbose = 2)\n",
    "# epochs = 8: training will make 8 complete passes through the dataset.\n",
    "# batch_size = 256: By default, the batch size is set to 32.\n",
    "# verbose = 2: print only one line per epoch\n",
    "# verbose = 1 (or True): print everything (the defalut)\n",
    "# verbose = 0 (or False): silence the print out"
   ]
  },
  {
   "cell_type": "markdown",
   "metadata": {
    "id": "o9HpDs3GdApU"
   },
   "source": [
    "The object history has an attribute called history that is a dictionary and contains information about the loss functions and matrix after each of the epochs."
   ]
  },
  {
   "cell_type": "code",
   "execution_count": null,
   "metadata": {
    "colab": {
     "base_uri": "https://localhost:8080/"
    },
    "executionInfo": {
     "elapsed": 157,
     "status": "ok",
     "timestamp": 1652719633501,
     "user": {
      "displayName": "Behnaz G",
      "userId": "15627282811872666397"
     },
     "user_tz": 420
    },
    "id": "Yha1SkAPo9zL",
    "outputId": "78ddcc52-84d6-4b08-d914-2402432f7449"
   },
   "outputs": [
    {
     "name": "stdout",
     "output_type": "stream",
     "text": [
      "dict_keys(['loss', 'sparse_categorical_accuracy'])\n"
     ]
    }
   ],
   "source": [
    "print(history.history.keys())"
   ]
  },
  {
   "cell_type": "markdown",
   "metadata": {
    "id": "xJ44NyQidpg5"
   },
   "source": [
    "Let's plot the training history:"
   ]
  },
  {
   "cell_type": "code",
   "execution_count": null,
   "metadata": {
    "colab": {
     "base_uri": "https://localhost:8080/",
     "height": 206
    },
    "executionInfo": {
     "elapsed": 148,
     "status": "ok",
     "timestamp": 1652719636858,
     "user": {
      "displayName": "Behnaz G",
      "userId": "15627282811872666397"
     },
     "user_tz": 420
    },
    "id": "KWNqgBE4dtY7",
    "outputId": "48dd6c61-c216-4066-c935-2c416f4080a4"
   },
   "outputs": [
    {
     "data": {
      "text/html": [
       "\n",
       "  <div id=\"df-05eb8a61-3fef-465b-b410-0d95d03644af\">\n",
       "    <div class=\"colab-df-container\">\n",
       "      <div>\n",
       "<style scoped>\n",
       "    .dataframe tbody tr th:only-of-type {\n",
       "        vertical-align: middle;\n",
       "    }\n",
       "\n",
       "    .dataframe tbody tr th {\n",
       "        vertical-align: top;\n",
       "    }\n",
       "\n",
       "    .dataframe thead th {\n",
       "        text-align: right;\n",
       "    }\n",
       "</style>\n",
       "<table border=\"1\" class=\"dataframe\">\n",
       "  <thead>\n",
       "    <tr style=\"text-align: right;\">\n",
       "      <th></th>\n",
       "      <th>loss</th>\n",
       "      <th>sparse_categorical_accuracy</th>\n",
       "    </tr>\n",
       "  </thead>\n",
       "  <tbody>\n",
       "    <tr>\n",
       "      <th>0</th>\n",
       "      <td>0.556610</td>\n",
       "      <td>0.805300</td>\n",
       "    </tr>\n",
       "    <tr>\n",
       "      <th>1</th>\n",
       "      <td>0.403525</td>\n",
       "      <td>0.856000</td>\n",
       "    </tr>\n",
       "    <tr>\n",
       "      <th>2</th>\n",
       "      <td>0.361745</td>\n",
       "      <td>0.869467</td>\n",
       "    </tr>\n",
       "    <tr>\n",
       "      <th>3</th>\n",
       "      <td>0.337762</td>\n",
       "      <td>0.877183</td>\n",
       "    </tr>\n",
       "    <tr>\n",
       "      <th>4</th>\n",
       "      <td>0.325459</td>\n",
       "      <td>0.879500</td>\n",
       "    </tr>\n",
       "  </tbody>\n",
       "</table>\n",
       "</div>\n",
       "      <button class=\"colab-df-convert\" onclick=\"convertToInteractive('df-05eb8a61-3fef-465b-b410-0d95d03644af')\"\n",
       "              title=\"Convert this dataframe to an interactive table.\"\n",
       "              style=\"display:none;\">\n",
       "        \n",
       "  <svg xmlns=\"http://www.w3.org/2000/svg\" height=\"24px\"viewBox=\"0 0 24 24\"\n",
       "       width=\"24px\">\n",
       "    <path d=\"M0 0h24v24H0V0z\" fill=\"none\"/>\n",
       "    <path d=\"M18.56 5.44l.94 2.06.94-2.06 2.06-.94-2.06-.94-.94-2.06-.94 2.06-2.06.94zm-11 1L8.5 8.5l.94-2.06 2.06-.94-2.06-.94L8.5 2.5l-.94 2.06-2.06.94zm10 10l.94 2.06.94-2.06 2.06-.94-2.06-.94-.94-2.06-.94 2.06-2.06.94z\"/><path d=\"M17.41 7.96l-1.37-1.37c-.4-.4-.92-.59-1.43-.59-.52 0-1.04.2-1.43.59L10.3 9.45l-7.72 7.72c-.78.78-.78 2.05 0 2.83L4 21.41c.39.39.9.59 1.41.59.51 0 1.02-.2 1.41-.59l7.78-7.78 2.81-2.81c.8-.78.8-2.07 0-2.86zM5.41 20L4 18.59l7.72-7.72 1.47 1.35L5.41 20z\"/>\n",
       "  </svg>\n",
       "      </button>\n",
       "      \n",
       "  <style>\n",
       "    .colab-df-container {\n",
       "      display:flex;\n",
       "      flex-wrap:wrap;\n",
       "      gap: 12px;\n",
       "    }\n",
       "\n",
       "    .colab-df-convert {\n",
       "      background-color: #E8F0FE;\n",
       "      border: none;\n",
       "      border-radius: 50%;\n",
       "      cursor: pointer;\n",
       "      display: none;\n",
       "      fill: #1967D2;\n",
       "      height: 32px;\n",
       "      padding: 0 0 0 0;\n",
       "      width: 32px;\n",
       "    }\n",
       "\n",
       "    .colab-df-convert:hover {\n",
       "      background-color: #E2EBFA;\n",
       "      box-shadow: 0px 1px 2px rgba(60, 64, 67, 0.3), 0px 1px 3px 1px rgba(60, 64, 67, 0.15);\n",
       "      fill: #174EA6;\n",
       "    }\n",
       "\n",
       "    [theme=dark] .colab-df-convert {\n",
       "      background-color: #3B4455;\n",
       "      fill: #D2E3FC;\n",
       "    }\n",
       "\n",
       "    [theme=dark] .colab-df-convert:hover {\n",
       "      background-color: #434B5C;\n",
       "      box-shadow: 0px 1px 3px 1px rgba(0, 0, 0, 0.15);\n",
       "      filter: drop-shadow(0px 1px 2px rgba(0, 0, 0, 0.3));\n",
       "      fill: #FFFFFF;\n",
       "    }\n",
       "  </style>\n",
       "\n",
       "      <script>\n",
       "        const buttonEl =\n",
       "          document.querySelector('#df-05eb8a61-3fef-465b-b410-0d95d03644af button.colab-df-convert');\n",
       "        buttonEl.style.display =\n",
       "          google.colab.kernel.accessAllowed ? 'block' : 'none';\n",
       "\n",
       "        async function convertToInteractive(key) {\n",
       "          const element = document.querySelector('#df-05eb8a61-3fef-465b-b410-0d95d03644af');\n",
       "          const dataTable =\n",
       "            await google.colab.kernel.invokeFunction('convertToInteractive',\n",
       "                                                     [key], {});\n",
       "          if (!dataTable) return;\n",
       "\n",
       "          const docLinkHtml = 'Like what you see? Visit the ' +\n",
       "            '<a target=\"_blank\" href=https://colab.research.google.com/notebooks/data_table.ipynb>data table notebook</a>'\n",
       "            + ' to learn more about interactive tables.';\n",
       "          element.innerHTML = '';\n",
       "          dataTable['output_type'] = 'display_data';\n",
       "          await google.colab.output.renderOutput(dataTable, element);\n",
       "          const docLink = document.createElement('div');\n",
       "          docLink.innerHTML = docLinkHtml;\n",
       "          element.appendChild(docLink);\n",
       "        }\n",
       "      </script>\n",
       "    </div>\n",
       "  </div>\n",
       "  "
      ],
      "text/plain": [
       "       loss  sparse_categorical_accuracy\n",
       "0  0.556610                     0.805300\n",
       "1  0.403525                     0.856000\n",
       "2  0.361745                     0.869467\n",
       "3  0.337762                     0.877183\n",
       "4  0.325459                     0.879500"
      ]
     },
     "execution_count": 20,
     "metadata": {},
     "output_type": "execute_result"
    }
   ],
   "source": [
    "# Load the history into a pandas Dataframe\n",
    "\n",
    "df = pd.DataFrame(history.history)\n",
    "df.head()"
   ]
  },
  {
   "cell_type": "code",
   "execution_count": null,
   "metadata": {
    "colab": {
     "base_uri": "https://localhost:8080/",
     "height": 312
    },
    "executionInfo": {
     "elapsed": 443,
     "status": "ok",
     "timestamp": 1652719651021,
     "user": {
      "displayName": "Behnaz G",
      "userId": "15627282811872666397"
     },
     "user_tz": 420
    },
    "id": "nmAHj6pqd4VY",
    "outputId": "7f814d2f-e7d9-40a1-b041-0e5664f42f59"
   },
   "outputs": [
    {
     "data": {
      "text/plain": [
       "[Text(0, 0.5, 'Loss'), Text(0.5, 0, 'Epochs')]"
      ]
     },
     "execution_count": 21,
     "metadata": {},
     "output_type": "execute_result"
    },
    {
     "data": {
      "image/png": "[encoded data removed]",
      "text/plain": [
       "<Figure size 432x288 with 1 Axes>"
      ]
     },
     "metadata": {
      "needs_background": "light"
     },
     "output_type": "display_data"
    }
   ],
   "source": [
    "# Make a plot for the loss\n",
    "\n",
    "loss_plot = df.plot(y=\"loss\", title = \"Loss vs. Epochs\", legend=False)\n",
    "loss_plot.set(xlabel=\"Epochs\", ylabel=\"Loss\")"
   ]
  },
  {
   "cell_type": "code",
   "execution_count": null,
   "metadata": {
    "colab": {
     "base_uri": "https://localhost:8080/",
     "height": 296
    },
    "executionInfo": {
     "elapsed": 431,
     "status": "ok",
     "timestamp": 1652719654823,
     "user": {
      "displayName": "Behnaz G",
      "userId": "15627282811872666397"
     },
     "user_tz": 420
    },
    "id": "451GeUU2d7VZ",
    "outputId": "0f443de2-39eb-4df8-d3b0-6ee11c7fb95c"
   },
   "outputs": [
    {
     "data": {
      "text/plain": [
       "[Text(0, 0.5, 'sparse_categorical_accuracy'), Text(0.5, 0, 'Epochs')]"
      ]
     },
     "execution_count": 22,
     "metadata": {},
     "output_type": "execute_result"
    },
    {
     "data": {
      "image/png": "[encoded data removed]",
      "text/plain": [
       "<Figure size 432x288 with 1 Axes>"
      ]
     },
     "metadata": {
      "needs_background": "light"
     },
     "output_type": "display_data"
    }
   ],
   "source": [
    "# Make a plot for the accuracy\n",
    "\n",
    "accuracy_plot = df.plot(y=\"sparse_categorical_accuracy\", legend=False)\n",
    "accuracy_plot.set(xlabel=\"Epochs\", ylabel=\"sparse_categorical_accuracy\")"
   ]
  },
  {
   "cell_type": "markdown",
   "metadata": {
    "id": "_TxbUDlYElcw"
   },
   "source": [
    "# 6) Model Evaluate on Test"
   ]
  },
  {
   "cell_type": "code",
   "execution_count": null,
   "metadata": {
    "colab": {
     "base_uri": "https://localhost:8080/"
    },
    "executionInfo": {
     "elapsed": 828,
     "status": "ok",
     "timestamp": 1652719717554,
     "user": {
      "displayName": "Behnaz G",
      "userId": "15627282811872666397"
     },
     "user_tz": 420
    },
    "id": "C5Fq4MI5CeC9",
    "outputId": "d4b4d968-aebf-4f69-bc53-8419f802f560"
   },
   "outputs": [
    {
     "name": "stdout",
     "output_type": "stream",
     "text": [
      "313/313 [==============================] - 1s 2ms/step - loss: 0.3751 - sparse_categorical_accuracy: 0.8622\n"
     ]
    }
   ],
   "source": [
    "test_loss, test_accuracy = model.evaluate(X_test, y_test)"
   ]
  },
  {
   "cell_type": "markdown",
   "metadata": {
    "id": "gKuICVCMGEex"
   },
   "source": [
    "# 7) Model Predict"
   ]
  },
  {
   "cell_type": "code",
   "execution_count": null,
   "metadata": {
    "colab": {
     "base_uri": "https://localhost:8080/",
     "height": 282
    },
    "executionInfo": {
     "elapsed": 681,
     "status": "ok",
     "timestamp": 1652720061027,
     "user": {
      "displayName": "Behnaz G",
      "userId": "15627282811872666397"
     },
     "user_tz": 420
    },
    "id": "_IRwPjXpfdWH",
    "outputId": "3b69194a-e150-40b0-e77d-142df6694890"
   },
   "outputs": [
    {
     "data": {
      "image/png": "[encoded data removed]",
      "text/plain": [
       "<Figure size 432x288 with 1 Axes>"
      ]
     },
     "metadata": {
      "needs_background": "light"
     },
     "output_type": "display_data"
    },
    {
     "name": "stdout",
     "output_type": "stream",
     "text": [
      "Label: Bag\n"
     ]
    }
   ],
   "source": [
    "# Choose a random test image\n",
    "\n",
    "random_inx = np.random.choice(X_test.shape[0])\n",
    "random_inx = 30\n",
    "X_sample = X_test[random_inx]\n",
    "plt.imshow(X_sample)\n",
    "plt.show()\n",
    "print(f\"Label: {labels[y_test[random_inx]]}\")"
   ]
  },
  {
   "cell_type": "code",
   "execution_count": null,
   "metadata": {
    "id": "RZH9DcmzCDTF"
   },
   "outputs": [],
   "source": [
    ""
   ]
  },
  {
   "cell_type": "code",
   "execution_count": null,
   "metadata": {
    "colab": {
     "base_uri": "https://localhost:8080/"
    },
    "executionInfo": {
     "elapsed": 157,
     "status": "ok",
     "timestamp": 1652220569905,
     "user": {
      "displayName": "Behnaz G",
      "userId": "15627282811872666397"
     },
     "user_tz": 420
    },
    "id": "u0gpaGcBgGBY",
    "outputId": "4f37d400-4a2b-456a-b49d-bd7152d48e39"
   },
   "outputs": [
    {
     "data": {
      "text/plain": [
       "(28, 28)"
      ]
     },
     "execution_count": 48,
     "metadata": {},
     "output_type": "execute_result"
    }
   ],
   "source": [
    "X_sample.shape"
   ]
  },
  {
   "cell_type": "code",
   "execution_count": null,
   "metadata": {
    "colab": {
     "base_uri": "https://localhost:8080/"
    },
    "executionInfo": {
     "elapsed": 212,
     "status": "ok",
     "timestamp": 1652720558757,
     "user": {
      "displayName": "Behnaz G",
      "userId": "15627282811872666397"
     },
     "user_tz": 420
    },
    "id": "9Gus47sSgZ-c",
    "outputId": "068a0685-2c5f-4db1-cc13-74f43a741460"
   },
   "outputs": [
    {
     "data": {
      "text/plain": [
       "(1, 28, 28)"
      ]
     },
     "execution_count": 26,
     "metadata": {},
     "output_type": "execute_result"
    }
   ],
   "source": [
    "# need to reshape X_sample\n",
    "\n",
    "X_sample = X_sample.reshape(1, 28, 28) # X_sample: (num_samples, X_sample.shape)\n",
    "X_sample.shape"
   ]
  },
  {
   "cell_type": "code",
   "execution_count": null,
   "metadata": {
    "colab": {
     "base_uri": "https://localhost:8080/"
    },
    "executionInfo": {
     "elapsed": 230,
     "status": "ok",
     "timestamp": 1652720563074,
     "user": {
      "displayName": "Behnaz G",
      "userId": "15627282811872666397"
     },
     "user_tz": 420
    },
    "id": "kpHdkWA5fqe3",
    "outputId": "3895e0f9-bb1c-40b0-9e62-a916fd41048b"
   },
   "outputs": [
    {
     "data": {
      "text/plain": [
       "array([[7.1093012e-13, 9.5750387e-14, 2.4641241e-15, 1.1958045e-12,\n",
       "        7.1345434e-12, 1.4757250e-10, 5.7615025e-14, 3.6700515e-14,\n",
       "        1.0000000e+00, 5.2862199e-16]], dtype=float32)"
      ]
     },
     "execution_count": 27,
     "metadata": {},
     "output_type": "execute_result"
    }
   ],
   "source": [
    "# Get the model predictions\n",
    "\n",
    "model.predict(X_sample)"
   ]
  },
  {
   "cell_type": "code",
   "execution_count": null,
   "metadata": {
    "colab": {
     "base_uri": "https://localhost:8080/"
    },
    "executionInfo": {
     "elapsed": 241,
     "status": "ok",
     "timestamp": 1652220684406,
     "user": {
      "displayName": "Behnaz G",
      "userId": "15627282811872666397"
     },
     "user_tz": 420
    },
    "id": "JomPW6Pxi9nB",
    "outputId": "8dbeb3f9-6065-4f5a-ce49-36afff547edf"
   },
   "outputs": [
    {
     "name": "stdout",
     "output_type": "stream",
     "text": [
      "8\n",
      "Model prediction:Bag\n"
     ]
    }
   ],
   "source": [
    "predictions = model.predict(X_sample)\n",
    "print(np.argmax(predictions))\n",
    "print(f\"Model prediction:{labels[np.argmax(predictions)]}\")"
   ]
  },
  {
   "cell_type": "markdown",
   "metadata": {
    "id": "2tsCEHckj-mc"
   },
   "source": [
    "# 8) Model Fit with Validation Sets"
   ]
  },
  {
   "cell_type": "markdown",
   "metadata": {
    "id": "Fyk5hRZzn0eG"
   },
   "source": [
    "Sometimes, datasets have already been packaged up for us with the training and test split:"
   ]
  },
  {
   "cell_type": "code",
   "execution_count": null,
   "metadata": {
    "id": "QzZOV5Qwj6m6"
   },
   "outputs": [],
   "source": [
    "# Recall:\n",
    "# fashion_mnist_data = tf.keras.datasets.fashion_mnist\n",
    "# (X_train, y_train), (X_test, y_test) = fashion_mnist_data.load_data()"
   ]
  },
  {
   "cell_type": "code",
   "execution_count": null,
   "metadata": {
    "id": "OxNriE6qT_za"
   },
   "outputs": [],
   "source": [
    "# Recall:\n",
    "# build model - nothing changed\n",
    "\n",
    "model = Sequential([\n",
    "                    Flatten(input_shape = (28, 28)),\n",
    "                    Dense(64, activation = 'relu'),\n",
    "                    Dense(10, activation = 'softmax')\n",
    "])"
   ]
  },
  {
   "cell_type": "code",
   "execution_count": null,
   "metadata": {
    "id": "mj56AWHcT3OH"
   },
   "outputs": [],
   "source": [
    "# Recall:\n",
    "# Start Training - nothing changed\n",
    "\n",
    "model.compile(\n",
    "    optimizer = tf.keras.optimizers.Adam(learning_rate = 0.005),\n",
    "    loss = 'sparse_categorical_crossentropy', # Use this loss function when the y labels are integers. \n",
    "    metrics = [tf.keras.metrics.SparseCategoricalAccuracy()] # Use this accuracy when the y labels are integers.\n",
    ")"
   ]
  },
  {
   "cell_type": "code",
   "execution_count": null,
   "metadata": {
    "id": "XCNimkFholh1"
   },
   "outputs": [],
   "source": [
    "# fit the model with validation set\n",
    "\n",
    "history = model.fit(X_train, y_train, epochs = 25, batch_size = 256, verbose = False, validation_split=0.2) \n",
    "# The 0.2 means that 20 percent of the training data will be held back for validation."
   ]
  },
  {
   "cell_type": "markdown",
   "metadata": {
    "id": "kVabTr3OpIRk"
   },
   "source": [
    "The model's performance is recorded on both the training and validation sets."
   ]
  },
  {
   "cell_type": "code",
   "execution_count": null,
   "metadata": {
    "colab": {
     "base_uri": "https://localhost:8080/"
    },
    "executionInfo": {
     "elapsed": 189,
     "status": "ok",
     "timestamp": 1652720871473,
     "user": {
      "displayName": "Behnaz G",
      "userId": "15627282811872666397"
     },
     "user_tz": 420
    },
    "id": "dSCCXG0FostF",
    "outputId": "9e933588-b1a6-4dac-bce1-884347d87edf"
   },
   "outputs": [
    {
     "name": "stdout",
     "output_type": "stream",
     "text": [
      "dict_keys(['loss', 'sparse_categorical_accuracy', 'val_loss', 'val_sparse_categorical_accuracy'])\n"
     ]
    }
   ],
   "source": [
    "print(history.history.keys())"
   ]
  },
  {
   "cell_type": "code",
   "execution_count": null,
   "metadata": {
    "colab": {
     "base_uri": "https://localhost:8080/",
     "height": 295
    },
    "executionInfo": {
     "elapsed": 450,
     "status": "ok",
     "timestamp": 1652720873356,
     "user": {
      "displayName": "Behnaz G",
      "userId": "15627282811872666397"
     },
     "user_tz": 420
    },
    "id": "6xWSblfnqgnY",
    "outputId": "618ea796-9577-4580-8d67-7165d37889bf"
   },
   "outputs": [
    {
     "data": {
      "image/png": "[encoded data removed]",
      "text/plain": [
       "<Figure size 432x288 with 1 Axes>"
      ]
     },
     "metadata": {
      "needs_background": "light"
     },
     "output_type": "display_data"
    }
   ],
   "source": [
    "# Plot the training and validation loss\n",
    "\n",
    "plt.plot(history.history['loss'])\n",
    "plt.plot(history.history['val_loss'])\n",
    "plt.title('Loss vs. epochs')\n",
    "plt.ylabel('Loss')\n",
    "plt.xlabel('Epoch')\n",
    "plt.legend(['Training', 'Validation'], loc='upper right')\n",
    "plt.show()"
   ]
  },
  {
   "cell_type": "markdown",
   "metadata": {
    "id": "U7R3EuFFq7fy"
   },
   "source": [
    "From the graph, we can see that the model has vastly overfit the training data and so it underperforms on the validation data."
   ]
  },
  {
   "cell_type": "code",
   "execution_count": null,
   "metadata": {
    "colab": {
     "base_uri": "https://localhost:8080/"
    },
    "executionInfo": {
     "elapsed": 853,
     "status": "ok",
     "timestamp": 1652721139787,
     "user": {
      "displayName": "Behnaz G",
      "userId": "15627282811872666397"
     },
     "user_tz": 420
    },
    "id": "ppPRBykG2_M0",
    "outputId": "485d16a8-e775-431e-a84b-c847ca994466"
   },
   "outputs": [
    {
     "name": "stdout",
     "output_type": "stream",
     "text": [
      "313/313 [==============================] - 0s 1ms/step - loss: 0.3875 - sparse_categorical_accuracy: 0.8718\n"
     ]
    }
   ],
   "source": [
    "# Testing mode\n",
    "\n",
    "test_loss, test_accuracy = model.evaluate(X_test, y_test)"
   ]
  },
  {
   "cell_type": "markdown",
   "metadata": {
    "id": "eHsDQmfWqhCv"
   },
   "source": [
    "Practice Question) See if you can reduce overfitting by, for example, altering the number of epochs at the model trains for or changing the layer structure of the model."
   ]
  },
  {
   "cell_type": "markdown",
   "metadata": {
    "id": "WoBch-X7jb9d"
   },
   "source": [
    "# 9) Reduce Overfit - Change the NN Model"
   ]
  },
  {
   "cell_type": "code",
   "execution_count": null,
   "metadata": {
    "id": "tDu88pOKSV-j"
   },
   "outputs": [],
   "source": [
    "# build model\n",
    "\n",
    "model = Sequential([\n",
    "                    Flatten(input_shape = (28, 28)),\n",
    "                    Dense(16, activation = 'relu'),\n",
    "                    Dense(10, activation = 'softmax')\n",
    "])"
   ]
  },
  {
   "cell_type": "code",
   "execution_count": null,
   "metadata": {
    "id": "SZe1z_OkSVWv"
   },
   "outputs": [],
   "source": [
    "# Start Training \n",
    "\n",
    "model.compile(\n",
    "    optimizer = tf.keras.optimizers.Adam(learning_rate = 0.005),\n",
    "    loss = 'sparse_categorical_crossentropy', # Use this loss function when the y labels are integers. \n",
    "    metrics = [tf.keras.metrics.SparseCategoricalAccuracy()] # Use this accuracy when the y labels are integers.\n",
    ")"
   ]
  },
  {
   "cell_type": "code",
   "execution_count": null,
   "metadata": {
    "id": "OSFd71c-SU5T"
   },
   "outputs": [],
   "source": [
    "# fit the model with validation set\n",
    "\n",
    "history = model.fit(X_train, y_train, epochs = 25, batch_size = 256, verbose = False, validation_split=0.2) "
   ]
  },
  {
   "cell_type": "code",
   "execution_count": null,
   "metadata": {
    "colab": {
     "base_uri": "https://localhost:8080/",
     "height": 295
    },
    "executionInfo": {
     "elapsed": 501,
     "status": "ok",
     "timestamp": 1652721215822,
     "user": {
      "displayName": "Behnaz G",
      "userId": "15627282811872666397"
     },
     "user_tz": 420
    },
    "id": "bTacLHXqSjmO",
    "outputId": "4bcdced8-0e13-414b-9712-7cefe54895aa"
   },
   "outputs": [
    {
     "data": {
      "image/png": "[encoded data removed]",
      "text/plain": [
       "<Figure size 432x288 with 1 Axes>"
      ]
     },
     "metadata": {
      "needs_background": "light"
     },
     "output_type": "display_data"
    }
   ],
   "source": [
    "# Plot the training and validation loss\n",
    "\n",
    "plt.plot(history.history['loss'])\n",
    "plt.plot(history.history['val_loss'])\n",
    "plt.title('Loss vs. epochs')\n",
    "plt.ylabel('Loss')\n",
    "plt.xlabel('Epoch')\n",
    "plt.legend(['Training', 'Validation'], loc='upper right')\n",
    "plt.show()"
   ]
  },
  {
   "cell_type": "markdown",
   "metadata": {
    "id": "5i5fPoT7sYuv"
   },
   "source": [
    "# 10) Reduce Overfit - L2 Regularization"
   ]
  },
  {
   "cell_type": "markdown",
   "metadata": {
    "id": "lC2F4tQNXg7w"
   },
   "source": [
    "Model Regularization"
   ]
  },
  {
   "cell_type": "code",
   "execution_count": null,
   "metadata": {
    "id": "RRYBTj3IUbbQ"
   },
   "outputs": [],
   "source": [
    "# build model - we should change this!\n",
    "\n",
    "model = Sequential([\n",
    "                   Flatten(input_shape = (28, 28)),\n",
    "                   Dense(64, activation = 'relu'),\n",
    "                   Dense(10, activation = 'softmax')\n",
    "])"
   ]
  },
  {
   "cell_type": "code",
   "execution_count": null,
   "metadata": {
    "id": "-cXzrK4KgSIX"
   },
   "outputs": [],
   "source": [
    "#l2 regularizer\n",
    "model = Sequential([\n",
    "                    Flatten(input_shape = (28, 28)),\n",
    "                    Dense(64, activation='relu', kernel_regularizer=tf.keras.regularizers.l2(0.001)), # penalty rate (or lambda) =0.001\n",
    "                    Dense(10, activation = 'softmax', kernel_regularizer=tf.keras.regularizers.l2(0.001))\n",
    "])\n",
    "\n",
    "# the weight matrix is sometimes called the kernel."
   ]
  },
  {
   "cell_type": "code",
   "execution_count": null,
   "metadata": {
    "id": "qc5K1IWog7Zn"
   },
   "outputs": [],
   "source": [
    "# Start Training  - nothing changed here!\n",
    "\n",
    "model.compile(\n",
    "     optimizer = tf.keras.optimizers.Adam(learning_rate = 0.005),\n",
    "     loss = 'sparse_categorical_crossentropy', # Use this loss function when the y labels are integers. \n",
    "     metrics = [tf.keras.metrics.SparseCategoricalAccuracy()] # Use this accuracy when the y labels are integers.\n",
    " )"
   ]
  },
  {
   "cell_type": "code",
   "execution_count": null,
   "metadata": {
    "id": "s4XauvPqWGS9"
   },
   "outputs": [],
   "source": [
    "# fit the model with validation set  - nothing changed here!\n",
    "\n",
    "history = model.fit(X_train, y_train, epochs = 25, batch_size = 256, verbose = False, validation_split=0.2) \n",
    "# The 0.2 means that 20 percent of the training data will be held back for validation."
   ]
  },
  {
   "cell_type": "code",
   "execution_count": null,
   "metadata": {
    "colab": {
     "base_uri": "https://localhost:8080/",
     "height": 295
    },
    "executionInfo": {
     "elapsed": 532,
     "status": "ok",
     "timestamp": 1652721779330,
     "user": {
      "displayName": "Behnaz G",
      "userId": "15627282811872666397"
     },
     "user_tz": 420
    },
    "id": "AodIjntoWju6",
    "outputId": "24f22e17-105e-48a3-ec49-43e455dc0eb0"
   },
   "outputs": [
    {
     "data": {
      "image/png": "[encoded data removed]",
      "text/plain": [
       "<Figure size 432x288 with 1 Axes>"
      ]
     },
     "metadata": {
      "needs_background": "light"
     },
     "output_type": "display_data"
    }
   ],
   "source": [
    "# Plot the training and validation loss\n",
    "\n",
    "plt.plot(history.history['loss'])\n",
    "plt.plot(history.history['val_loss'])\n",
    "plt.title('Loss vs. epochs')\n",
    "plt.ylabel('Loss')\n",
    "plt.xlabel('Epoch')\n",
    "plt.legend(['Training', 'Validation'], loc='upper right')\n",
    "plt.show()"
   ]
  },
  {
   "cell_type": "code",
   "execution_count": null,
   "metadata": {
    "colab": {
     "base_uri": "https://localhost:8080/"
    },
    "executionInfo": {
     "elapsed": 1000,
     "status": "ok",
     "timestamp": 1652721822619,
     "user": {
      "displayName": "Behnaz G",
      "userId": "15627282811872666397"
     },
     "user_tz": 420
    },
    "id": "2s_7YXug2rqJ",
    "outputId": "7201c46a-2525-4615-cc02-19e351963944"
   },
   "outputs": [
    {
     "name": "stdout",
     "output_type": "stream",
     "text": [
      "313/313 [==============================] - 0s 1ms/step - loss: 0.4988 - sparse_categorical_accuracy: 0.8588\n"
     ]
    }
   ],
   "source": [
    "# Testing mode\n",
    "\n",
    "test_loss, test_accuracy = model.evaluate(X_test, y_test)"
   ]
  },
  {
   "cell_type": "markdown",
   "metadata": {
    "id": "_IILS0s7s4Hm"
   },
   "source": [
    "# 11) Reduce Overfit - Dropout Regularization"
   ]
  },
  {
   "cell_type": "code",
   "execution_count": null,
   "metadata": {
    "id": "eee5SPsi02JH"
   },
   "outputs": [],
   "source": [
    "# Recall:\n",
    "\n",
    "#model = Sequential([\n",
    "#                   Flatten(input_shape = (28, 28)),\n",
    "#                   Dense(64, activation = 'relu'),\n",
    "#                   Dense(10, activation = 'softmax')\n",
    "#])"
   ]
  },
  {
   "cell_type": "code",
   "execution_count": null,
   "metadata": {
    "id": "1fVz_Auhij3O"
   },
   "outputs": [],
   "source": [
    "#dropout regularizer\n",
    "#dropout rate = 1-keep_probability\n",
    "\n",
    "model = Sequential([\n",
    "                    Flatten(input_shape = (28, 28)),\n",
    "                    Dense(64, activation='relu'),\n",
    "                    Dropout(0.5), #dropout rate \n",
    "                    Dense(10, activation = 'softmax')\n",
    "])\n",
    "                    "
   ]
  },
  {
   "cell_type": "code",
   "execution_count": null,
   "metadata": {
    "id": "KuU_Vb4D1kOJ"
   },
   "outputs": [],
   "source": [
    "# Start Training - nothing changed here!\n",
    "\n",
    "model.compile(\n",
    "     optimizer = tf.keras.optimizers.Adam(learning_rate = 0.005),\n",
    "     loss = 'sparse_categorical_crossentropy', # Use this loss function when the y labels are integers. \n",
    "     metrics = [tf.keras.metrics.SparseCategoricalAccuracy()] # Use this accuracy when the y labels are integers.\n",
    " )"
   ]
  },
  {
   "cell_type": "code",
   "execution_count": null,
   "metadata": {
    "id": "kGt4JaeG1-u0"
   },
   "outputs": [],
   "source": [
    "# fit the model with validation set  - nothing changed here!\n",
    "\n",
    "history = model.fit(X_train, y_train, epochs = 25, batch_size = 256, verbose = False, validation_split=0.2) \n",
    "# The 0.2 means that 20 percent of the training data will be held back for validation."
   ]
  },
  {
   "cell_type": "code",
   "execution_count": null,
   "metadata": {
    "colab": {
     "base_uri": "https://localhost:8080/",
     "height": 295
    },
    "executionInfo": {
     "elapsed": 196,
     "status": "ok",
     "timestamp": 1652722334112,
     "user": {
      "displayName": "Behnaz G",
      "userId": "15627282811872666397"
     },
     "user_tz": 420
    },
    "id": "KcVWz7L_2E-N",
    "outputId": "ed5a713e-2d83-46fa-9656-3ce8df13b7f0"
   },
   "outputs": [
    {
     "data": {
      "image/png": "[encoded data removed]",
      "text/plain": [
       "<Figure size 432x288 with 1 Axes>"
      ]
     },
     "metadata": {
      "needs_background": "light"
     },
     "output_type": "display_data"
    }
   ],
   "source": [
    "# Plot the training and validation loss\n",
    "\n",
    "plt.plot(history.history['loss'])\n",
    "plt.plot(history.history['val_loss'])\n",
    "plt.title('Loss vs. epochs')\n",
    "plt.ylabel('Loss')\n",
    "plt.xlabel('Epoch')\n",
    "plt.legend(['Training', 'Validation'], loc='upper right')\n",
    "plt.show()"
   ]
  },
  {
   "cell_type": "code",
   "execution_count": null,
   "metadata": {
    "colab": {
     "base_uri": "https://localhost:8080/"
    },
    "executionInfo": {
     "elapsed": 804,
     "status": "ok",
     "timestamp": 1652722413167,
     "user": {
      "displayName": "Behnaz G",
      "userId": "15627282811872666397"
     },
     "user_tz": 420
    },
    "id": "avvC9sVN2JVp",
    "outputId": "c3761d0d-362e-46aa-e0d1-220afec0282f"
   },
   "outputs": [
    {
     "name": "stdout",
     "output_type": "stream",
     "text": [
      "313/313 [==============================] - 0s 1ms/step - loss: 0.3966 - sparse_categorical_accuracy: 0.8675\n"
     ]
    }
   ],
   "source": [
    "# Testing mode, no dropout\n",
    "\n",
    "test_loss, test_accuracy = model.evaluate(X_test, y_test)"
   ]
  },
  {
   "cell_type": "markdown",
   "metadata": {
    "id": "WD627bM_3_NT"
   },
   "source": [
    "# 12) Reduce Overfit - Early Stopping "
   ]
  },
  {
   "cell_type": "markdown",
   "metadata": {
    "id": "cAiLmhMUoBPa"
   },
   "source": [
    "Another regularization approach is called early stopping. \n",
    "Early stopping is a technique that monitors the performance of the network for every epoch on a held out validation set during the training run, and terminates the training conditional on the validation performance."
   ]
  },
  {
   "cell_type": "code",
   "execution_count": null,
   "metadata": {
    "id": "SMYgkhVs4U6M"
   },
   "outputs": [],
   "source": [
    "# build the original model without L2 or dropout regularization\n",
    "model = Sequential([\n",
    "                   Flatten(input_shape = (28, 28)),\n",
    "                   Dense(64, activation = 'relu'),\n",
    "                   Dense(10, activation = 'softmax')\n",
    "])"
   ]
  },
  {
   "cell_type": "code",
   "execution_count": null,
   "metadata": {
    "id": "y5g5bdNx4dYG"
   },
   "outputs": [],
   "source": [
    "# Start Training - nothing changed here!\n",
    "\n",
    "model.compile(\n",
    "     optimizer = tf.keras.optimizers.Adam(learning_rate = 0.005),\n",
    "     loss = 'sparse_categorical_crossentropy', # Use this loss function when the y labels are integers. \n",
    "     metrics = [tf.keras.metrics.SparseCategoricalAccuracy()] # Use this accuracy when the y labels are integers.\n",
    " )"
   ]
  },
  {
   "cell_type": "code",
   "execution_count": null,
   "metadata": {
    "id": "21OJdhWQoNuV"
   },
   "outputs": [],
   "source": [
    "#set early stopping\n",
    "\n",
    "early_stopping = tf.keras.callbacks.EarlyStopping(monitor='val_loss', min_delta=0.01, patience=5) \n",
    "\n",
    "# by default, monitor='val_loss', which means that we use the validation loss as the performance measure to decide when to terminate the training.\n",
    "# we could instead use 'val_accuracy'.\n",
    "\n",
    "# min_delta: Minimum change in the monitored quantity to qualify as an improvement, \n",
    "# i.e. an absolute change of less than min_delta, will count as no improvement.\n",
    "# by default, min_delta=0.\n",
    "\n",
    "#patience: Number of consecutive epochs with no improvement after which training will be stopped.\n",
    "# by default, patience is set to zero which terminates training as soon as the performance measure gets worse from one epoch to the next."
   ]
  },
  {
   "cell_type": "code",
   "execution_count": null,
   "metadata": {
    "colab": {
     "base_uri": "https://localhost:8080/"
    },
    "executionInfo": {
     "elapsed": 11289,
     "status": "ok",
     "timestamp": 1652722664340,
     "user": {
      "displayName": "Behnaz G",
      "userId": "15627282811872666397"
     },
     "user_tz": 420
    },
    "id": "H5F5HtET4xy8",
    "outputId": "8d3cf442-ed9d-4f94-cf55-2d80821a5db9"
   },
   "outputs": [
    {
     "name": "stdout",
     "output_type": "stream",
     "text": [
      "Epoch 1/25\n",
      "188/188 - 1s - loss: 0.5870 - sparse_categorical_accuracy: 0.7933 - val_loss: 0.4416 - val_sparse_categorical_accuracy: 0.8428 - 1s/epoch - 6ms/step\n",
      "Epoch 2/25\n",
      "188/188 - 1s - loss: 0.4154 - sparse_categorical_accuracy: 0.8532 - val_loss: 0.4139 - val_sparse_categorical_accuracy: 0.8512 - 1s/epoch - 6ms/step\n",
      "Epoch 3/25\n",
      "188/188 - 1s - loss: 0.3726 - sparse_categorical_accuracy: 0.8659 - val_loss: 0.3798 - val_sparse_categorical_accuracy: 0.8644 - 1s/epoch - 6ms/step\n",
      "Epoch 4/25\n",
      "188/188 - 1s - loss: 0.3503 - sparse_categorical_accuracy: 0.8730 - val_loss: 0.3595 - val_sparse_categorical_accuracy: 0.8698 - 699ms/epoch - 4ms/step\n",
      "Epoch 5/25\n",
      "188/188 - 1s - loss: 0.3270 - sparse_categorical_accuracy: 0.8810 - val_loss: 0.3551 - val_sparse_categorical_accuracy: 0.8699 - 654ms/epoch - 3ms/step\n",
      "Epoch 6/25\n",
      "188/188 - 1s - loss: 0.3136 - sparse_categorical_accuracy: 0.8845 - val_loss: 0.3596 - val_sparse_categorical_accuracy: 0.8708 - 706ms/epoch - 4ms/step\n",
      "Epoch 7/25\n",
      "188/188 - 1s - loss: 0.3057 - sparse_categorical_accuracy: 0.8879 - val_loss: 0.3662 - val_sparse_categorical_accuracy: 0.8668 - 649ms/epoch - 3ms/step\n",
      "Epoch 8/25\n",
      "188/188 - 1s - loss: 0.2905 - sparse_categorical_accuracy: 0.8925 - val_loss: 0.3599 - val_sparse_categorical_accuracy: 0.8678 - 649ms/epoch - 3ms/step\n",
      "Epoch 9/25\n",
      "188/188 - 1s - loss: 0.2857 - sparse_categorical_accuracy: 0.8942 - val_loss: 0.3425 - val_sparse_categorical_accuracy: 0.8763 - 720ms/epoch - 4ms/step\n",
      "Epoch 10/25\n",
      "188/188 - 1s - loss: 0.2713 - sparse_categorical_accuracy: 0.8985 - val_loss: 0.3518 - val_sparse_categorical_accuracy: 0.8759 - 710ms/epoch - 4ms/step\n",
      "Epoch 11/25\n",
      "188/188 - 1s - loss: 0.2709 - sparse_categorical_accuracy: 0.8996 - val_loss: 0.3393 - val_sparse_categorical_accuracy: 0.8821 - 686ms/epoch - 4ms/step\n",
      "Epoch 12/25\n",
      "188/188 - 1s - loss: 0.2589 - sparse_categorical_accuracy: 0.9051 - val_loss: 0.3639 - val_sparse_categorical_accuracy: 0.8618 - 728ms/epoch - 4ms/step\n",
      "Epoch 13/25\n",
      "188/188 - 1s - loss: 0.2559 - sparse_categorical_accuracy: 0.9045 - val_loss: 0.3466 - val_sparse_categorical_accuracy: 0.8785 - 707ms/epoch - 4ms/step\n",
      "Epoch 14/25\n",
      "188/188 - 1s - loss: 0.2473 - sparse_categorical_accuracy: 0.9077 - val_loss: 0.3450 - val_sparse_categorical_accuracy: 0.8807 - 696ms/epoch - 4ms/step\n"
     ]
    }
   ],
   "source": [
    "# fit the model with validation set  \n",
    "\n",
    "history = model.fit(X_train, y_train, epochs = 25, batch_size = 256, verbose = 2, validation_split=0.2,\n",
    "                    callbacks=[early_stopping]) \n",
    "# The 0.2 means that 20 percent of the training data will be held back for validation."
   ]
  },
  {
   "cell_type": "code",
   "execution_count": null,
   "metadata": {
    "colab": {
     "base_uri": "https://localhost:8080/",
     "height": 295
    },
    "executionInfo": {
     "elapsed": 566,
     "status": "ok",
     "timestamp": 1652722670110,
     "user": {
      "displayName": "Behnaz G",
      "userId": "15627282811872666397"
     },
     "user_tz": 420
    },
    "id": "TIQQecGX5BXf",
    "outputId": "5e4da63d-84b4-4d3e-dfb6-a2a646b70b21"
   },
   "outputs": [
    {
     "data": {
      "image/png": "[encoded data removed]",
      "text/plain": [
       "<Figure size 432x288 with 1 Axes>"
      ]
     },
     "metadata": {
      "needs_background": "light"
     },
     "output_type": "display_data"
    }
   ],
   "source": [
    "# Plot the training and validation loss\n",
    "\n",
    "plt.plot(history.history['loss'])\n",
    "plt.plot(history.history['val_loss'])\n",
    "plt.title('Loss vs. epochs')\n",
    "plt.ylabel('Loss')\n",
    "plt.xlabel('Epoch')\n",
    "plt.legend(['Training', 'Validation'], loc='upper right')\n",
    "plt.show()"
   ]
  },
  {
   "cell_type": "code",
   "execution_count": null,
   "metadata": {
    "colab": {
     "base_uri": "https://localhost:8080/"
    },
    "executionInfo": {
     "elapsed": 730,
     "status": "ok",
     "timestamp": 1621386989161,
     "user": {
      "displayName": "Behnaz G",
      "photoUrl": "",
      "userId": "15627282811872666397"
     },
     "user_tz": 420
    },
    "id": "HIpMat7A4rf5",
    "outputId": "373f9ed9-4c46-402e-fb8f-d07542307823"
   },
   "outputs": [
    {
     "name": "stdout",
     "output_type": "stream",
     "text": [
      "313/313 [==============================] - 0s 1ms/step - loss: 0.3702 - sparse_categorical_accuracy: 0.8732\n"
     ]
    }
   ],
   "source": [
    "# Testing mode\n",
    "\n",
    "test_loss, test_accuracy = model.evaluate(X_test, y_test)"
   ]
  }
 ],
 "metadata": {
  "colab": {
   "authorship_tag": "ABX9TyM0tbW1HZ2YHWfIW60JZCfT",
   "collapsed_sections": [],
   "name": "11 - Tensorflow.ipynb",
   "provenance": [],
   "toc_visible": true
  },
  "kernelspec": {
   "display_name": "Python 3",
   "name": "python3"
  }
 },
 "nbformat": 4,
 "nbformat_minor": 0
}
