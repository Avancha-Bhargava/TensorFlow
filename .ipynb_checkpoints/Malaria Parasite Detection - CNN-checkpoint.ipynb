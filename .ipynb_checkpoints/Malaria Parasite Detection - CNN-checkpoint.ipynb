{
 "cells": [
  {
   "cell_type": "code",
   "execution_count": null,
   "id": "d9d527d6",
   "metadata": {},
   "outputs": [],
   "source": [
    "### Task is based on image, we need to classify if the cell is infected by malaria cell or not\n",
    "### This is a binary classification"
   ]
  },
  {
   "cell_type": "markdown",
   "id": "f8ce62c2",
   "metadata": {},
   "source": [
    "## CNN"
   ]
  },
  {
   "cell_type": "code",
   "execution_count": 4,
   "id": "968d98f1",
   "metadata": {},
   "outputs": [],
   "source": [
    "## importing required library"
   ]
  },
  {
   "cell_type": "code",
   "execution_count": 5,
   "id": "7d83cfa3",
   "metadata": {},
   "outputs": [],
   "source": [
    "import pandas as pd\n",
    "import seaborn as sns\n",
    "import tensorflow as tf\n",
    "import tensorflow_datasets as tfds\n",
    "import matplotlib.pyplot as plt\n",
    "import numpy as np"
   ]
  },
  {
   "cell_type": "code",
   "execution_count": 6,
   "id": "761653be",
   "metadata": {},
   "outputs": [],
   "source": [
    "### for a colored image they have Height, Width and channels = 3 (RBG)\n",
    "### for a grey scale image, they have height, width and channels =1(black =0, white = 255)"
   ]
  },
  {
   "cell_type": "markdown",
   "id": "aea73a5c",
   "metadata": {},
   "source": [
    "##  Malaria Dataset"
   ]
  },
  {
   "cell_type": "code",
   "execution_count": 7,
   "id": "967f081e",
   "metadata": {},
   "outputs": [],
   "source": [
    "## Dataset can be found from https://www.tensorflow.org/datasets/catalog/malaria"
   ]
  },
  {
   "cell_type": "code",
   "execution_count": null,
   "id": "ec7d1c91",
   "metadata": {},
   "outputs": [],
   "source": []
  }
 ],
 "metadata": {
  "kernelspec": {
   "display_name": "Python 3 (ipykernel)",
   "language": "python",
   "name": "python3"
  },
  "language_info": {
   "codemirror_mode": {
    "name": "ipython",
    "version": 3
   },
   "file_extension": ".py",
   "mimetype": "text/x-python",
   "name": "python",
   "nbconvert_exporter": "python",
   "pygments_lexer": "ipython3",
   "version": "3.9.6"
  }
 },
 "nbformat": 4,
 "nbformat_minor": 5
}
