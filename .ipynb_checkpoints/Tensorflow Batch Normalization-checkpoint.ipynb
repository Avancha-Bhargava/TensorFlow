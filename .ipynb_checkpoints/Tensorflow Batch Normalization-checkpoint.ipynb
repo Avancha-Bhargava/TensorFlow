{
 "cells": [
  {
   "cell_type": "markdown",
   "metadata": {
    "id": "83G5nziC_Hxs"
   },
   "source": [
    "In this notebook, we will look at incorporating batch normalization into our models and look at an example of how we do this in practice."
   ]
  },
  {
   "cell_type": "markdown",
   "metadata": {
    "id": "PrVT7fCchUOy"
   },
   "source": [
    "# 1) Import"
   ]
  },
  {
   "cell_type": "code",
   "execution_count": null,
   "metadata": {
    "colab": {
     "base_uri": "https://localhost:8080/"
    },
    "executionInfo": {
     "elapsed": 3372,
     "status": "ok",
     "timestamp": 1652807604092,
     "user": {
      "displayName": "Behnaz G",
      "userId": "15627282811872666397"
     },
     "user_tz": 420
    },
    "id": "XQPhahe3_Hx-",
    "outputId": "718cbcb5-7a5e-418f-db26-4dcfb23a14a1"
   },
   "outputs": [],
   "source": [
    "import tensorflow as tf\n",
    "print(tf.__version__)"
   ]
  },
  {
   "cell_type": "code",
   "execution_count": null,
   "metadata": {
    "executionInfo": {
     "elapsed": 304,
     "status": "ok",
     "timestamp": 1652807612287,
     "user": {
      "displayName": "Behnaz G",
      "userId": "15627282811872666397"
     },
     "user_tz": 420
    },
    "id": "sQtfTWDjhg0e"
   },
   "outputs": [],
   "source": [
    "from tensorflow.keras.models import Sequential\n",
    "from tensorflow.keras.layers import Dense, BatchNormalization, Dropout"
   ]
  },
  {
   "cell_type": "markdown",
   "metadata": {
    "id": "1c14C-MFhbmM"
   },
   "source": [
    "# 2) Load Data "
   ]
  },
  {
   "cell_type": "markdown",
   "metadata": {
    "id": "TeaKUUQN_HyA"
   },
   "source": [
    "We will be working with the diabetes dataset. \n",
    "\n",
    "Let's load and pre-process the dataset."
   ]
  },
  {
   "cell_type": "code",
   "execution_count": null,
   "metadata": {
    "executionInfo": {
     "elapsed": 317,
     "status": "ok",
     "timestamp": 1652807615369,
     "user": {
      "displayName": "Behnaz G",
      "userId": "15627282811872666397"
     },
     "user_tz": 420
    },
    "id": "1LHZ8YLa_HyB"
   },
   "outputs": [],
   "source": [
    "# Load the dataset\n",
    "\n",
    "from sklearn.datasets import load_diabetes"
   ]
  },
  {
   "cell_type": "code",
   "execution_count": null,
   "metadata": {
    "executionInfo": {
     "elapsed": 7,
     "status": "ok",
     "timestamp": 1652807616794,
     "user": {
      "displayName": "Behnaz G",
      "userId": "15627282811872666397"
     },
     "user_tz": 420
    },
    "id": "5ZgIaZMZRO6R"
   },
   "outputs": [],
   "source": [
    "# call the load diabetes function which returns a dictionary containing all of the information about the data set.\n",
    "\n",
    "diabetes_dataset = load_diabetes()"
   ]
  },
  {
   "cell_type": "code",
   "execution_count": null,
   "metadata": {
    "colab": {
     "base_uri": "https://localhost:8080/"
    },
    "executionInfo": {
     "elapsed": 342,
     "status": "ok",
     "timestamp": 1652807619464,
     "user": {
      "displayName": "Behnaz G",
      "userId": "15627282811872666397"
     },
     "user_tz": 420
    },
    "id": "tEM2W4SwRNMn",
    "outputId": "8970310b-ed3e-4b9d-ed3f-00b3813105e0"
   },
   "outputs": [],
   "source": [
    "# print the keys\n",
    "\n",
    "print(diabetes_dataset.keys())"
   ]
  },
  {
   "cell_type": "code",
   "execution_count": null,
   "metadata": {
    "colab": {
     "base_uri": "https://localhost:8080/"
    },
    "executionInfo": {
     "elapsed": 320,
     "status": "ok",
     "timestamp": 1652807621409,
     "user": {
      "displayName": "Behnaz G",
      "userId": "15627282811872666397"
     },
     "user_tz": 420
    },
    "id": "eWZlqiybQkj3",
    "outputId": "054b9ae7-03fe-4fef-fc04-1cb32c3c9ca7"
   },
   "outputs": [],
   "source": [
    "# take a look at the dataset description\n",
    "\n",
    "print(diabetes_dataset['DESCR'])"
   ]
  },
  {
   "cell_type": "code",
   "execution_count": null,
   "metadata": {
    "executionInfo": {
     "elapsed": 405,
     "status": "ok",
     "timestamp": 1652807625709,
     "user": {
      "displayName": "Behnaz G",
      "userId": "15627282811872666397"
     },
     "user_tz": 420
    },
    "id": "dTjIK4LqRCI-"
   },
   "outputs": [],
   "source": [
    "# Save the input and target variables\n",
    "\n",
    "data = diabetes_dataset['data']\n",
    "targets = diabetes_dataset['target']"
   ]
  },
  {
   "cell_type": "code",
   "execution_count": null,
   "metadata": {
    "colab": {
     "base_uri": "https://localhost:8080/"
    },
    "executionInfo": {
     "elapsed": 418,
     "status": "ok",
     "timestamp": 1652807633894,
     "user": {
      "displayName": "Behnaz G",
      "userId": "15627282811872666397"
     },
     "user_tz": 420
    },
    "id": "pGRciZrzR-CM",
    "outputId": "626e51e7-d6c3-4c3b-b250-f67d99dbbc73"
   },
   "outputs": [],
   "source": [
    "print(\"train X shape: \", data.shape) \n",
    "print(\"train y shape: \", targets.shape) "
   ]
  },
  {
   "cell_type": "code",
   "execution_count": null,
   "metadata": {
    "colab": {
     "base_uri": "https://localhost:8080/"
    },
    "executionInfo": {
     "elapsed": 521,
     "status": "ok",
     "timestamp": 1652807637996,
     "user": {
      "displayName": "Behnaz G",
      "userId": "15627282811872666397"
     },
     "user_tz": 420
    },
    "id": "cE06QtYG_HyC",
    "outputId": "c9da4475-0949-422b-e1fc-0326e252e91b"
   },
   "outputs": [],
   "source": [
    "print(\"minimum train y value: \", min(targets))\n",
    "print(\"maximum train y value: \", max(targets))"
   ]
  },
  {
   "cell_type": "code",
   "execution_count": null,
   "metadata": {
    "executionInfo": {
     "elapsed": 242,
     "status": "ok",
     "timestamp": 1652807640817,
     "user": {
      "displayName": "Behnaz G",
      "userId": "15627282811872666397"
     },
     "user_tz": 420
    },
    "id": "JKYNIkpO_HyD"
   },
   "outputs": [],
   "source": [
    "# Normalize the target data (this will make clearer training curves, for example loss curve to be around 0 and 1)\n",
    "\n",
    "targets = (targets - targets.mean()) / (targets.std())"
   ]
  },
  {
   "cell_type": "code",
   "execution_count": null,
   "metadata": {
    "colab": {
     "base_uri": "https://localhost:8080/"
    },
    "executionInfo": {
     "elapsed": 263,
     "status": "ok",
     "timestamp": 1652807642961,
     "user": {
      "displayName": "Behnaz G",
      "userId": "15627282811872666397"
     },
     "user_tz": 420
    },
    "id": "Lx0KtjcJDOlE",
    "outputId": "796a6093-f497-4880-b880-0f4c0bd3c53f"
   },
   "outputs": [],
   "source": [
    "print(\"minimum train y value: \", min(targets))\n",
    "print(\"maximum train y value: \", max(targets))"
   ]
  },
  {
   "cell_type": "code",
   "execution_count": null,
   "metadata": {
    "executionInfo": {
     "elapsed": 301,
     "status": "ok",
     "timestamp": 1652807645477,
     "user": {
      "displayName": "Behnaz G",
      "userId": "15627282811872666397"
     },
     "user_tz": 420
    },
    "id": "PH6kE_zZ_HyE"
   },
   "outputs": [],
   "source": [
    "# Split the dataset into training and test datasets \n",
    "\n",
    "from sklearn.model_selection import train_test_split\n",
    "\n",
    "train_data, test_data, train_targets, test_targets = train_test_split(data, targets, test_size=0.1)"
   ]
  },
  {
   "cell_type": "markdown",
   "metadata": {
    "id": "sgPqjH7HhKQ0"
   },
   "source": [
    "# 3) Model without Batch Normalization"
   ]
  },
  {
   "cell_type": "code",
   "execution_count": null,
   "metadata": {
    "executionInfo": {
     "elapsed": 295,
     "status": "ok",
     "timestamp": 1652807648736,
     "user": {
      "displayName": "Behnaz G",
      "userId": "15627282811872666397"
     },
     "user_tz": 420
    },
    "id": "WU5jpmEbiZg6"
   },
   "outputs": [],
   "source": [
    "# Build the model\n",
    "\n",
    "model = Sequential([\n",
    "    Dense(64, input_shape=[train_data.shape[1],], activation=\"relu\"),\n",
    "    Dropout(0.5),\n",
    "    Dense(256, activation='relu'),\n",
    "    Dense(1)\n",
    "])"
   ]
  },
  {
   "cell_type": "code",
   "execution_count": null,
   "metadata": {
    "colab": {
     "base_uri": "https://localhost:8080/"
    },
    "executionInfo": {
     "elapsed": 337,
     "status": "ok",
     "timestamp": 1652807651957,
     "user": {
      "displayName": "Behnaz G",
      "userId": "15627282811872666397"
     },
     "user_tz": 420
    },
    "id": "pWJu6xWFAj_q",
    "outputId": "ba80364f-6bf7-4969-b1c3-c73291bd3fa6"
   },
   "outputs": [],
   "source": [
    "# Print the model summary\n",
    "\n",
    "model.summary()"
   ]
  },
  {
   "cell_type": "code",
   "execution_count": null,
   "metadata": {
    "executionInfo": {
     "elapsed": 423,
     "status": "ok",
     "timestamp": 1652807658894,
     "user": {
      "displayName": "Behnaz G",
      "userId": "15627282811872666397"
     },
     "user_tz": 420
    },
    "id": "FqKm_cycjeCC"
   },
   "outputs": [],
   "source": [
    "# Compile the model\n",
    "\n",
    "model.compile(optimizer='adam',\n",
    "              loss='mse',\n",
    "              metrics=['mae'])"
   ]
  },
  {
   "cell_type": "code",
   "execution_count": null,
   "metadata": {
    "colab": {
     "base_uri": "https://localhost:8080/"
    },
    "executionInfo": {
     "elapsed": 5218,
     "status": "ok",
     "timestamp": 1652807669469,
     "user": {
      "displayName": "Behnaz G",
      "userId": "15627282811872666397"
     },
     "user_tz": 420
    },
    "id": "GIxNB8ftjmi1",
    "outputId": "ee1f4861-673e-4327-cbeb-23a5ef75adc9"
   },
   "outputs": [],
   "source": [
    "# Train the model\n",
    "\n",
    "history = model.fit(train_data, train_targets, epochs=100, validation_split=0.15, batch_size=64,verbose=2)"
   ]
  },
  {
   "cell_type": "code",
   "execution_count": null,
   "metadata": {
    "colab": {
     "base_uri": "https://localhost:8080/",
     "height": 312
    },
    "executionInfo": {
     "elapsed": 693,
     "status": "ok",
     "timestamp": 1652807685064,
     "user": {
      "displayName": "Behnaz G",
      "userId": "15627282811872666397"
     },
     "user_tz": 420
    },
    "id": "a3P8BikfjtV7",
    "outputId": "68173642-1b95-46de-fded-b0353b76da5c"
   },
   "outputs": [],
   "source": [
    "# Plot the learning curves\n",
    "\n",
    "import pandas as pd\n",
    "import numpy as np\n",
    "import matplotlib.pyplot as plt\n",
    "%matplotlib inline\n",
    "\n",
    "frame = pd.DataFrame(history.history)\n",
    "epochs = np.arange(len(frame))\n",
    "\n",
    "fig = plt.figure(figsize=(12,4))\n",
    "\n",
    "# Loss plot\n",
    "ax = fig.add_subplot(121)\n",
    "ax.plot(epochs, frame['loss'], label=\"Train\")\n",
    "ax.plot(epochs, frame['val_loss'], label=\"Validation\")\n",
    "ax.set_xlabel(\"Epochs\")\n",
    "ax.set_ylabel(\"Loss\")\n",
    "ax.set_title(\"Loss vs Epochs\")\n",
    "ax.legend()\n",
    "\n",
    "# Accuracy plot\n",
    "ax = fig.add_subplot(122)\n",
    "ax.plot(epochs, frame['mae'], label=\"Train\")\n",
    "ax.plot(epochs, frame['val_mae'], label=\"Validation\")\n",
    "ax.set_xlabel(\"Epochs\")\n",
    "ax.set_ylabel(\"Mean Absolute Error\")\n",
    "ax.set_title(\"Mean Absolute Error vs Epochs\")\n",
    "ax.legend()"
   ]
  },
  {
   "cell_type": "markdown",
   "metadata": {
    "id": "r8V7H2j-_HyF"
   },
   "source": [
    "# 4)Model with Batch Normalization"
   ]
  },
  {
   "cell_type": "markdown",
   "metadata": {
    "id": "MZSxD_rR_HyG"
   },
   "source": [
    "We can implement batch normalization into our model by adding it in the same way as any other layer."
   ]
  },
  {
   "cell_type": "code",
   "execution_count": null,
   "metadata": {
    "executionInfo": {
     "elapsed": 415,
     "status": "ok",
     "timestamp": 1652807735067,
     "user": {
      "displayName": "Behnaz G",
      "userId": "15627282811872666397"
     },
     "user_tz": 420
    },
    "id": "uwyNgjiXkO0N"
   },
   "outputs": [],
   "source": [
    "# Build the model\n",
    "#model = Sequential([\n",
    "#    Dense(64, input_shape=[train_data.shape[1],], activation=\"relu\"),\n",
    "#    Dropout(0.5),\n",
    "#    Dense(256, activation='relu'),\n",
    "#    Dense(1)\n",
    "#])\n",
    "\n",
    "model = Sequential([\n",
    "    Dense(64, input_shape=[train_data.shape[1],], activation=\"relu\"),\n",
    "    BatchNormalization(),  # <- Batch normalization layer 1\n",
    "    Dropout(0.5),\n",
    "    Dense(256, activation='relu'),\n",
    "    BatchNormalization(),  # <- Batch normalization layer 2\n",
    "    Dense(1)\n",
    "])"
   ]
  },
  {
   "cell_type": "code",
   "execution_count": null,
   "metadata": {
    "colab": {
     "base_uri": "https://localhost:8080/"
    },
    "executionInfo": {
     "elapsed": 463,
     "status": "ok",
     "timestamp": 1652807739824,
     "user": {
      "displayName": "Behnaz G",
      "userId": "15627282811872666397"
     },
     "user_tz": 420
    },
    "id": "GFeBLCGd_HyJ",
    "outputId": "e0e15a94-7e8c-404b-bbe5-60355d302762",
    "scrolled": true
   },
   "outputs": [],
   "source": [
    "# Print the model summary\n",
    "\n",
    "model.summary()"
   ]
  },
  {
   "cell_type": "code",
   "execution_count": null,
   "metadata": {
    "executionInfo": {
     "elapsed": 315,
     "status": "ok",
     "timestamp": 1652807746330,
     "user": {
      "displayName": "Behnaz G",
      "userId": "15627282811872666397"
     },
     "user_tz": 420
    },
    "id": "zrmt7AAE_AWl"
   },
   "outputs": [],
   "source": [
    "# Compile the model\n",
    "\n",
    "model.compile(optimizer='adam',\n",
    "              loss='mse',\n",
    "              metrics=['mae'])"
   ]
  },
  {
   "cell_type": "code",
   "execution_count": null,
   "metadata": {
    "colab": {
     "base_uri": "https://localhost:8080/"
    },
    "executionInfo": {
     "elapsed": 11377,
     "status": "ok",
     "timestamp": 1652807759957,
     "user": {
      "displayName": "Behnaz G",
      "userId": "15627282811872666397"
     },
     "user_tz": 420
    },
    "id": "rSkZAMP0-_0W",
    "outputId": "c78fb517-6d27-4399-b419-4785bb25cf64"
   },
   "outputs": [],
   "source": [
    "# Train the model\n",
    "\n",
    "history = model.fit(train_data, train_targets, epochs=100, validation_split=0.15, batch_size=64,verbose=2)"
   ]
  },
  {
   "cell_type": "code",
   "execution_count": null,
   "metadata": {
    "colab": {
     "base_uri": "https://localhost:8080/",
     "height": 312
    },
    "executionInfo": {
     "elapsed": 941,
     "status": "ok",
     "timestamp": 1652807765191,
     "user": {
      "displayName": "Behnaz G",
      "userId": "15627282811872666397"
     },
     "user_tz": 420
    },
    "id": "h8EoOIOC-_bQ",
    "outputId": "40a0aac2-07ad-4c54-8b2d-ffe2abcba089"
   },
   "outputs": [],
   "source": [
    "# Plot the learning curves\n",
    "\n",
    "import pandas as pd\n",
    "import numpy as np\n",
    "import matplotlib.pyplot as plt\n",
    "%matplotlib inline\n",
    "\n",
    "frame = pd.DataFrame(history.history)\n",
    "epochs = np.arange(len(frame))\n",
    "\n",
    "fig = plt.figure(figsize=(12,4))\n",
    "\n",
    "# Loss plot\n",
    "ax = fig.add_subplot(121)\n",
    "ax.plot(epochs, frame['loss'], label=\"Train\")\n",
    "ax.plot(epochs, frame['val_loss'], label=\"Validation\")\n",
    "ax.set_xlabel(\"Epochs\")\n",
    "ax.set_ylabel(\"Loss\")\n",
    "ax.set_title(\"Loss vs Epochs\")\n",
    "ax.legend()\n",
    "\n",
    "# Accuracy plot\n",
    "ax = fig.add_subplot(122)\n",
    "ax.plot(epochs, frame['mae'], label=\"Train\")\n",
    "ax.plot(epochs, frame['val_mae'], label=\"Validation\")\n",
    "ax.set_xlabel(\"Epochs\")\n",
    "ax.set_ylabel(\"Mean Absolute Error\")\n",
    "ax.set_title(\"Mean Absolute Error vs Epochs\")\n",
    "ax.legend()"
   ]
  },
  {
   "cell_type": "markdown",
   "metadata": {
    "id": "NCYu0R6w_HyJ"
   },
   "source": [
    "### Customising parameters\n",
    "\n",
    "Recall that there are some parameters and hyperparameters associated with batch normalization.\n",
    "\n",
    "* The hyperparameter **momentum** is the weighting given to the previous running mean when re-computing it with an extra minibatch. By **default**, it is set to 0.99.\n",
    "\n",
    "* The hyperparameter **$\\epsilon$** is used for numeric stability when performing the normalization over the minibatch. By **default** it is set to 0.001.\n",
    "\n",
    "* The parameters **$\\beta$** and **$\\gamma$** are used to implement an affine transformation after normalization. By **default**, $\\beta$ is an all-zeros vector, and $\\gamma$ is an all-ones vector.\n",
    "\n",
    "These can all be changed (along with various other properties) by adding optional arguments to `tf.keras.layers.BatchNormalization()`.\n",
    "\n",
    "We can also specify the axis for batch normalization. By default, it is set as -1.\n",
    "\n",
    "Let's see an example."
   ]
  },
  {
   "cell_type": "code",
   "execution_count": null,
   "metadata": {
    "executionInfo": {
     "elapsed": 322,
     "status": "ok",
     "timestamp": 1652807815261,
     "user": {
      "displayName": "Behnaz G",
      "userId": "15627282811872666397"
     },
     "user_tz": 420
    },
    "id": "cJX9x-pl-HmN"
   },
   "outputs": [],
   "source": [
    "# the previous model\n",
    "# model = Sequential([\n",
    "#     Dense(64, input_shape=[train_data.shape[1],], activation=\"relu\"),\n",
    "#     BatchNormalization(),  # <- Batch normalization layer 1\n",
    "#     Dropout(0.5),\n",
    "#     Dense(256, activation='relu'),\n",
    "#     BatchNormalization(), # <- Batch normalization layer 2\n",
    "#     Dense(1)\n",
    "# ])\n",
    "\n",
    "model = Sequential([\n",
    "    Dense(64, input_shape=[train_data.shape[1],], activation=\"relu\"),\n",
    "    BatchNormalization(),  # <- Batch normalization layer 1\n",
    "    Dropout(0.5),\n",
    "    Dense(256, activation='relu'),\n",
    "    #BatchNormalization(),\n",
    "    #Dense(1)\n",
    "])\n",
    "\n",
    "# Notice that in this new model,we still have not added the output layer because we still have more layers to add!"
   ]
  },
  {
   "cell_type": "code",
   "execution_count": null,
   "metadata": {
    "executionInfo": {
     "elapsed": 303,
     "status": "ok",
     "timestamp": 1652807818321,
     "user": {
      "displayName": "Behnaz G",
      "userId": "15627282811872666397"
     },
     "user_tz": 420
    },
    "id": "kQwPx-8o_HyK"
   },
   "outputs": [],
   "source": [
    "# Add a customised batch normalization layer 2\n",
    "\n",
    "model.add(tf.keras.layers.BatchNormalization(\n",
    "    momentum=0.95, # default is 0.99\n",
    "    epsilon=0.005, #default is 0.001\n",
    "    axis = -1, #default is -1\n",
    "    beta_initializer=tf.keras.initializers.RandomNormal(mean=0.0, stddev=0.05), # default is beta_initializer='zeros'\n",
    "    gamma_initializer=tf.keras.initializers.Constant(value=0.9) # default is gamma_initializer='ones'\n",
    "))"
   ]
  },
  {
   "cell_type": "code",
   "execution_count": null,
   "metadata": {
    "executionInfo": {
     "elapsed": 264,
     "status": "ok",
     "timestamp": 1652807820364,
     "user": {
      "displayName": "Behnaz G",
      "userId": "15627282811872666397"
     },
     "user_tz": 420
    },
    "id": "QiQpRo94_HyL"
   },
   "outputs": [],
   "source": [
    "# Add the output layer\n",
    "\n",
    "model.add(Dense(1))"
   ]
  },
  {
   "cell_type": "code",
   "execution_count": null,
   "metadata": {
    "colab": {
     "base_uri": "https://localhost:8080/"
    },
    "executionInfo": {
     "elapsed": 237,
     "status": "ok",
     "timestamp": 1652808195009,
     "user": {
      "displayName": "Behnaz G",
      "userId": "15627282811872666397"
     },
     "user_tz": 420
    },
    "id": "8fk_1F6bBfYu",
    "outputId": "195338cd-7a56-478e-9884-5525ce964a8c"
   },
   "outputs": [],
   "source": [
    "# Print the model summary\n",
    "\n",
    "model.summary()"
   ]
  },
  {
   "cell_type": "markdown",
   "metadata": {
    "id": "v6mXIhwk_HyM"
   },
   "source": [
    "Let's now compile and fit our model with batch normalization, and track the progress on training and validation sets.\n",
    "\n",
    "First we compile our model."
   ]
  },
  {
   "cell_type": "code",
   "execution_count": null,
   "metadata": {
    "executionInfo": {
     "elapsed": 252,
     "status": "ok",
     "timestamp": 1652808200614,
     "user": {
      "displayName": "Behnaz G",
      "userId": "15627282811872666397"
     },
     "user_tz": 420
    },
    "id": "3zxrK-oF_HyN"
   },
   "outputs": [],
   "source": [
    "# Compile the model\n",
    "\n",
    "model.compile(optimizer='adam',\n",
    "              loss='mse',\n",
    "              metrics=['mae'])"
   ]
  },
  {
   "cell_type": "markdown",
   "metadata": {
    "id": "jxXcToFK_HyO"
   },
   "source": [
    "Now we fit the model to the data."
   ]
  },
  {
   "cell_type": "code",
   "execution_count": null,
   "metadata": {
    "colab": {
     "base_uri": "https://localhost:8080/"
    },
    "executionInfo": {
     "elapsed": 6053,
     "status": "ok",
     "timestamp": 1652808208895,
     "user": {
      "displayName": "Behnaz G",
      "userId": "15627282811872666397"
     },
     "user_tz": 420
    },
    "id": "zVVsbFdP_HyO",
    "outputId": "7d48cacb-b394-40d6-f99b-de4b91a43208"
   },
   "outputs": [],
   "source": [
    "# Train the model\n",
    "\n",
    "history = model.fit(train_data, train_targets, epochs=100, validation_split=0.15, batch_size=64,verbose=2)"
   ]
  },
  {
   "cell_type": "markdown",
   "metadata": {
    "id": "14dwn7J7_HyP"
   },
   "source": [
    "Finally, we plot training and validation loss and accuracy to observe how the accuracy of our model improves over time."
   ]
  },
  {
   "cell_type": "code",
   "execution_count": null,
   "metadata": {
    "colab": {
     "base_uri": "https://localhost:8080/",
     "height": 312
    },
    "executionInfo": {
     "elapsed": 631,
     "status": "ok",
     "timestamp": 1652808218337,
     "user": {
      "displayName": "Behnaz G",
      "userId": "15627282811872666397"
     },
     "user_tz": 420
    },
    "id": "wX5JUy1m_HyQ",
    "outputId": "7099cd0a-b4dd-4361-da34-1f81fba739d0"
   },
   "outputs": [],
   "source": [
    "# Plot the learning curves\n",
    "\n",
    "import pandas as pd\n",
    "import numpy as np\n",
    "import matplotlib.pyplot as plt\n",
    "%matplotlib inline\n",
    "\n",
    "frame = pd.DataFrame(history.history)\n",
    "epochs = np.arange(len(frame))\n",
    "\n",
    "fig = plt.figure(figsize=(12,4))\n",
    "\n",
    "# Loss plot\n",
    "ax = fig.add_subplot(121)\n",
    "ax.plot(epochs, frame['loss'], label=\"Train\")\n",
    "ax.plot(epochs, frame['val_loss'], label=\"Validation\")\n",
    "ax.set_xlabel(\"Epochs\")\n",
    "ax.set_ylabel(\"Loss\")\n",
    "ax.set_title(\"Loss vs Epochs\")\n",
    "ax.legend()\n",
    "\n",
    "# Accuracy plot\n",
    "ax = fig.add_subplot(122)\n",
    "ax.plot(epochs, frame['mae'], label=\"Train\")\n",
    "ax.plot(epochs, frame['val_mae'], label=\"Validation\")\n",
    "ax.set_xlabel(\"Epochs\")\n",
    "ax.set_ylabel(\"Mean Absolute Error\")\n",
    "ax.set_title(\"Mean Absolute Error vs Epochs\")\n",
    "ax.legend()"
   ]
  },
  {
   "cell_type": "markdown",
   "metadata": {
    "id": "KEld40JM_HyR"
   },
   "source": [
    "## Further reading and resources \n",
    "* https://keras.io/layers/normalization/\n",
    "* https://www.tensorflow.org/versions/r2.0/api_docs/python/tf/keras/layers/BatchNormalization"
   ]
  }
 ],
 "metadata": {
  "colab": {
   "collapsed_sections": [],
   "name": "13 - Tensorflow - Batch Normalization.ipynb",
   "provenance": [],
   "toc_visible": true
  },
  "kernelspec": {
   "display_name": "Python 3",
   "language": "python",
   "name": "python3"
  },
  "language_info": {
   "codemirror_mode": {
    "name": "ipython",
    "version": 3
   },
   "file_extension": ".py",
   "mimetype": "text/x-python",
   "name": "python",
   "nbconvert_exporter": "python",
   "pygments_lexer": "ipython3",
   "version": "3.8.5"
  }
 },
 "nbformat": 4,
 "nbformat_minor": 1
}
