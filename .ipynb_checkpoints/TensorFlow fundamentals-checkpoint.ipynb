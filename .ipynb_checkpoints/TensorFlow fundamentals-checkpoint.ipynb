{
 "cells": [
  {
   "cell_type": "code",
   "execution_count": 1,
   "id": "68a8307f",
   "metadata": {},
   "outputs": [],
   "source": [
    "##Deeplearning is subset of ML"
   ]
  },
  {
   "cell_type": "code",
   "execution_count": 2,
   "id": "0d162d31",
   "metadata": {},
   "outputs": [],
   "source": [
    "  # A machine learning technique that learns features and tasks directly from data\n",
    "    # Inputs run through \"Neural Networks\n",
    "    #Neural Networks have hidden layers\""
   ]
  },
  {
   "cell_type": "code",
   "execution_count": 3,
   "id": "0a0dcc2b",
   "metadata": {},
   "outputs": [],
   "source": [
    "## tensor basics"
   ]
  },
  {
   "cell_type": "code",
   "execution_count": 4,
   "id": "5c533989",
   "metadata": {},
   "outputs": [],
   "source": [
    "## Tensors are multi dimensionall arrays\n",
    "## images can be written as arrays\n",
    "# 8  it is a 0D array or a scalar\n",
    "#[2,0,3] 1-D Tensor which is a vector which is made of 3 scalars\n",
    "# [[1,2,0],[3,5,-1],[1,5,6],[2,3,8]] 2D  Tensor basically a mrtix\n"
   ]
  },
  {
   "cell_type": "code",
   "execution_count": 11,
   "id": "d4dde8d8",
   "metadata": {},
   "outputs": [],
   "source": [
    "#! pip install tensorflow"
   ]
  },
  {
   "cell_type": "markdown",
   "id": "71cec42e",
   "metadata": {},
   "source": [
    "## Constants"
   ]
  },
  {
   "cell_type": "code",
   "execution_count": 12,
   "id": "0cb88d22",
   "metadata": {},
   "outputs": [],
   "source": [
    " import tensorflow as tf"
   ]
  },
  {
   "cell_type": "code",
   "execution_count": 13,
   "id": "8d9625b0",
   "metadata": {},
   "outputs": [],
   "source": [
    "tensor_zero_d = tf.constant(2)"
   ]
  },
  {
   "cell_type": "code",
   "execution_count": 14,
   "id": "92662b63",
   "metadata": {},
   "outputs": [
    {
     "name": "stdout",
     "output_type": "stream",
     "text": [
      "tf.Tensor(2, shape=(), dtype=int32)\n"
     ]
    }
   ],
   "source": [
    "print(tensor_zero_d)"
   ]
  },
  {
   "cell_type": "markdown",
   "id": "42779664",
   "metadata": {},
   "source": [
    "## Tensors 1D"
   ]
  },
  {
   "cell_type": "code",
   "execution_count": 17,
   "id": "1d2fddff",
   "metadata": {},
   "outputs": [],
   "source": [
    "tensor_1_D = tf.constant([2,0,-3,8,90.0])"
   ]
  },
  {
   "cell_type": "code",
   "execution_count": 18,
   "id": "f3298220",
   "metadata": {},
   "outputs": [
    {
     "name": "stdout",
     "output_type": "stream",
     "text": [
      "tf.Tensor([ 2.  0. -3.  8. 90.], shape=(5,), dtype=float32)\n"
     ]
    }
   ],
   "source": [
    "print(tensor_1_D)"
   ]
  },
  {
   "cell_type": "markdown",
   "id": "2dcfb7d3",
   "metadata": {},
   "source": [
    "## 2D tensor"
   ]
  },
  {
   "cell_type": "code",
   "execution_count": 20,
   "id": "8038384d",
   "metadata": {},
   "outputs": [],
   "source": [
    "tensor_2_D = tf.constant([[1,2,0],[3,5,-1],[1,5,6],[2,3,8]])"
   ]
  },
  {
   "cell_type": "code",
   "execution_count": 21,
   "id": "f3e12ecf",
   "metadata": {},
   "outputs": [
    {
     "name": "stdout",
     "output_type": "stream",
     "text": [
      "tf.Tensor(\n",
      "[[ 1  2  0]\n",
      " [ 3  5 -1]\n",
      " [ 1  5  6]\n",
      " [ 2  3  8]], shape=(4, 3), dtype=int32)\n"
     ]
    }
   ],
   "source": [
    "print(tensor_2_D)"
   ]
  },
  {
   "cell_type": "code",
   "execution_count": 37,
   "id": "3d2d6a58",
   "metadata": {},
   "outputs": [
    {
     "name": "stdout",
     "output_type": "stream",
     "text": [
      "(4, 3)\n",
      "2\n",
      "tf.Tensor(12, shape=(), dtype=int32)\n"
     ]
    }
   ],
   "source": [
    "## to print shape of tensor we use\n",
    "print(tensor_2_D.shape)\n",
    "## to print dimensions\n",
    "print(tensor_2_D.ndim)\n",
    "#size of matrix\n",
    "print(tf.size(tensor_2_D))"
   ]
  },
  {
   "cell_type": "markdown",
   "id": "5d81ee50",
   "metadata": {},
   "source": [
    "## Tensor operations"
   ]
  },
  {
   "cell_type": "code",
   "execution_count": 87,
   "id": "ce042477",
   "metadata": {},
   "outputs": [
    {
     "name": "stdout",
     "output_type": "stream",
     "text": [
      "(4,)\n",
      "tf.Tensor([[2 3 4 5]], shape=(1, 4), dtype=int32)\n"
     ]
    }
   ],
   "source": [
    "## conveert tensors to a higher dimensions\n",
    "\n",
    "x= tf.constant([2,3,4,5])\n",
    "print(x.shape)\n",
    "print(tf.expand_dims(x,axis = 0))"
   ]
  },
  {
   "cell_type": "code",
   "execution_count": 88,
   "id": "deb0c32e",
   "metadata": {},
   "outputs": [
    {
     "data": {
      "text/plain": [
       "<tf.Tensor: shape=(4,), dtype=int32, numpy=array([2, 3, 4, 5], dtype=int32)>"
      ]
     },
     "execution_count": 88,
     "metadata": {},
     "output_type": "execute_result"
    }
   ],
   "source": [
    "## To lower dimension\n",
    "tf.squeeze(tf.expand_dims(x,axis = 0),axis=0)"
   ]
  },
  {
   "cell_type": "code",
   "execution_count": 90,
   "id": "febf0a79",
   "metadata": {},
   "outputs": [
    {
     "name": "stdout",
     "output_type": "stream",
     "text": [
      "tf.Tensor(\n",
      "[[ 3  5  6  6]\n",
      " [ 4  6 -1  2]], shape=(2, 4), dtype=int32)\n",
      "tf.Tensor(\n",
      "[[ 3]\n",
      " [ 5]\n",
      " [ 6]\n",
      " [ 6]\n",
      " [ 4]\n",
      " [ 6]\n",
      " [-1]\n",
      " [ 2]], shape=(8, 1), dtype=int32)\n"
     ]
    }
   ],
   "source": [
    "## reshaping the dims\n",
    "x_reshape = tf.constant([[3,5,6,6],[4,6,-1,2]])\n",
    "print(x_reshape)\n",
    "print(tf.reshape(x_reshape, [8,1]))"
   ]
  },
  {
   "cell_type": "code",
   "execution_count": 24,
   "id": "a82701c0",
   "metadata": {},
   "outputs": [
    {
     "name": "stdout",
     "output_type": "stream",
     "text": [
      "tf.Tensor([ 2  0 -3  8 90], shape=(5,), dtype=int16)\n",
      "tf.Tensor([ True False  True  True  True], shape=(5,), dtype=bool)\n"
     ]
    }
   ],
   "source": [
    "#to typecast tensor into different dimensions use tf.cast()\n",
    "cast_1d_int = tf.cast(tensor_1_D, dtype = tf.int16)\n",
    "cast_1d_bool = tf.cast(tensor_1_D, dtype = tf.bool)\n",
    "print(cast_1d_int)\n",
    "print(cast_1d_bool)"
   ]
  },
  {
   "cell_type": "code",
   "execution_count": 26,
   "id": "e1396890",
   "metadata": {},
   "outputs": [
    {
     "name": "stdout",
     "output_type": "stream",
     "text": [
      "tf.Tensor([b'hello world' b'Hi'], shape=(2,), dtype=string)\n",
      "\n"
     ]
    }
   ],
   "source": [
    "#tensor string\n",
    "tensor_string = tf.constant([\"hello world\",\"Hi\"])\n",
    "print(tensor_string)\n",
    "print()"
   ]
  },
  {
   "cell_type": "code",
   "execution_count": 29,
   "id": "ffe22334",
   "metadata": {},
   "outputs": [
    {
     "name": "stdout",
     "output_type": "stream",
     "text": [
      "[1 2 4]\n",
      "tf.Tensor([1 2 4], shape=(3,), dtype=int64)\n"
     ]
    }
   ],
   "source": [
    "# comvert into numpy array\n",
    "import numpy as np\n",
    "np_array = np.array([1,2,4])\n",
    "print(np_array)\n",
    "converted_tensor = tf.convert_to_tensor(np_array)\n",
    "print(converted_tensor)"
   ]
  },
  {
   "cell_type": "code",
   "execution_count": 34,
   "id": "c96c529a",
   "metadata": {},
   "outputs": [
    {
     "name": "stdout",
     "output_type": "stream",
     "text": [
      "tf.Tensor(\n",
      "[[1. 0. 0.]\n",
      " [0. 1. 0.]\n",
      " [0. 0. 1.]], shape=(3, 3), dtype=float32)\n"
     ]
    }
   ],
   "source": [
    "#eyetensor - prints identity matrix\n",
    "\n",
    "eye = tf.eye(\n",
    "    num_rows=3,\n",
    "    num_columns=None,\n",
    "    batch_shape=None,\n",
    "    dtype=tf.dtypes.float32,\n",
    "    name=None\n",
    ")\n",
    "print(eye)"
   ]
  },
  {
   "cell_type": "code",
   "execution_count": 36,
   "id": "fefc7c82",
   "metadata": {},
   "outputs": [
    {
     "name": "stdout",
     "output_type": "stream",
     "text": [
      "tf.Tensor(\n",
      "[[5 5 5 5]\n",
      " [5 5 5 5]\n",
      " [5 5 5 5]], shape=(3, 4), dtype=int32)\n"
     ]
    }
   ],
   "source": [
    "fill_tensor = tf.fill([3,4],5)\n",
    "print(fill_tensor)"
   ]
  },
  {
   "cell_type": "code",
   "execution_count": 42,
   "id": "e8da118f",
   "metadata": {},
   "outputs": [
    {
     "data": {
      "text/plain": [
       "<tf.Tensor: shape=(3, 2), dtype=float32, numpy=\n",
       "array([[ 2.453166  , -0.57768387],\n",
       "       [ 0.8282451 , -0.69618034],\n",
       "       [ 0.6041455 , -0.45163187]], dtype=float32)>"
      ]
     },
     "execution_count": 42,
     "metadata": {},
     "output_type": "execute_result"
    }
   ],
   "source": [
    "##create random values\n",
    "tf.random.normal(\n",
    "    [3,2],\n",
    "    mean=0.0,\n",
    "    stddev = 1.0,\n",
    "    dtype= tf.dtypes.float32,\n",
    "    seed =None,\n",
    "    name=None\n",
    ")"
   ]
  },
  {
   "cell_type": "code",
   "execution_count": 45,
   "id": "8d598a0f",
   "metadata": {},
   "outputs": [
    {
     "data": {
      "text/plain": [
       "<tf.Tensor: shape=(3, 5), dtype=int32, numpy=\n",
       "array([[568, 994, 865, 262, 845],\n",
       "       [327, 120, 818, 201, 943],\n",
       "       [249, 158, 909, 481, 366]], dtype=int32)>"
      ]
     },
     "execution_count": 45,
     "metadata": {},
     "output_type": "execute_result"
    }
   ],
   "source": [
    "tf.random.uniform(\n",
    "    [3,5],\n",
    "    minval=0,\n",
    "    maxval = 1000,\n",
    "    dtype= tf.dtypes.int32,\n",
    "    seed =None,\n",
    "    name=None\n",
    ")"
   ]
  },
  {
   "cell_type": "code",
   "execution_count": 92,
   "id": "ba1654a3",
   "metadata": {},
   "outputs": [
    {
     "name": "stdout",
     "output_type": "stream",
     "text": [
      "tf.Tensor(\n",
      "[[ 1  2  3]\n",
      " [ 4  5  6]\n",
      " [ 7  8  9]\n",
      " [10 11 12]], shape=(4, 3), dtype=int32)\n",
      "tf.Tensor(\n",
      "[[ 1  2  3  7  8  9]\n",
      " [ 4  5  6 10 11 12]], shape=(2, 6), dtype=int32)\n"
     ]
    }
   ],
   "source": [
    "## concat tensors\n",
    "t1= [[1,2,3],[4,5,6]]\n",
    "t2 =[[7,8,9],[10,11,12]]\n",
    "print(tf.concat([t1,t2],0)) ## to attach below\n",
    "print(tf.concat([t1,t2],1)) ## to attach above"
   ]
  },
  {
   "cell_type": "markdown",
   "id": "b184c244",
   "metadata": {},
   "source": [
    "## Tensor Indexed"
   ]
  },
  {
   "cell_type": "code",
   "execution_count": 47,
   "id": "ab0c2104",
   "metadata": {},
   "outputs": [],
   "source": [
    "tensor_indexed= tf.constant([3,6,2,4,6,66,7])"
   ]
  },
  {
   "cell_type": "code",
   "execution_count": 50,
   "id": "ac274655",
   "metadata": {},
   "outputs": [
    {
     "name": "stdout",
     "output_type": "stream",
     "text": [
      "tf.Tensor([ 3  6  2  4  6 66  7], shape=(7,), dtype=int32)\n",
      "tf.Tensor([3 6 2 4], shape=(4,), dtype=int32)\n"
     ]
    }
   ],
   "source": [
    "print(tensor_indexed)\n",
    "print(tensor_indexed[0:4:1])"
   ]
  },
  {
   "cell_type": "code",
   "execution_count": 49,
   "id": "41204d69",
   "metadata": {},
   "outputs": [
    {
     "data": {
      "text/plain": [
       "<tf.Tensor: shape=(4,), dtype=int32, numpy=array([2, 3, 4, 5], dtype=int32)>"
      ]
     },
     "execution_count": 49,
     "metadata": {},
     "output_type": "execute_result"
    }
   ],
   "source": [
    "tf.range(2,6)"
   ]
  },
  {
   "cell_type": "code",
   "execution_count": 52,
   "id": "8fb8cf7e",
   "metadata": {},
   "outputs": [
    {
     "name": "stdout",
     "output_type": "stream",
     "text": [
      "tf.Tensor(3, shape=(), dtype=int64)\n"
     ]
    }
   ],
   "source": [
    "## max value position\n",
    "x_argmax = tf.constant([200,120,130,300,6])\n",
    "print(tf.math.argmax(x_argmax))"
   ]
  },
  {
   "cell_type": "markdown",
   "id": "70e270f8",
   "metadata": {},
   "source": [
    "## Mathematical operations"
   ]
  },
  {
   "cell_type": "code",
   "execution_count": 53,
   "id": "714b0277",
   "metadata": {},
   "outputs": [],
   "source": [
    "#matmul is for matrix multiplication"
   ]
  },
  {
   "cell_type": "code",
   "execution_count": 63,
   "id": "6efcc1ef",
   "metadata": {},
   "outputs": [
    {
     "data": {
      "text/plain": [
       "<tf.Tensor: shape=(2, 3), dtype=int32, numpy=\n",
       "array([[ 7, 12, -2],\n",
       "       [19, 33, -2]], dtype=int32)>"
      ]
     },
     "execution_count": 63,
     "metadata": {},
     "output_type": "execute_result"
    }
   ],
   "source": [
    "x1 = tf.constant([[1,2,0],[3,5,1]])\n",
    "x2= tf.constant([[1,2,0],[3,5,-1],[1,2,3]])\n",
    "\n",
    "tf.linalg.matmul(x1,x2,transpose_a=False, transpose_b = False, adjoint_b = False,a_is_sparse= False, b_is_sparse = False, output_type =None, name= None)"
   ]
  },
  {
   "cell_type": "code",
   "execution_count": 64,
   "id": "65d51acd",
   "metadata": {},
   "outputs": [
    {
     "name": "stdout",
     "output_type": "stream",
     "text": [
      "tf.Tensor(\n",
      "[[ 7 12 -2]\n",
      " [19 33 -2]], shape=(2, 3), dtype=int32)\n"
     ]
    }
   ],
   "source": [
    " #shortcut\n",
    "print(x1@x2)"
   ]
  },
  {
   "cell_type": "code",
   "execution_count": 66,
   "id": "23a40cb9",
   "metadata": {},
   "outputs": [
    {
     "data": {
      "text/plain": [
       "<tf.Tensor: shape=(3, 2), dtype=int32, numpy=\n",
       "array([[1, 3],\n",
       "       [2, 5],\n",
       "       [0, 1]], dtype=int32)>"
      ]
     },
     "execution_count": 66,
     "metadata": {},
     "output_type": "execute_result"
    }
   ],
   "source": [
    "#Transpose of matrix\n",
    "tf.transpose(x1)"
   ]
  },
  {
   "cell_type": "code",
   "execution_count": 74,
   "id": "1acfee14",
   "metadata": {},
   "outputs": [
    {
     "data": {
      "text/plain": [
       "<tf.Tensor: shape=(4, 3), dtype=float16, numpy=\n",
       "array([[ 1.,  2.,  0.],\n",
       "       [ 3.,  5., -1.],\n",
       "       [ 1.,  5.,  6.],\n",
       "       [ 2.,  3.,  8.]], dtype=float16)>"
      ]
     },
     "execution_count": 74,
     "metadata": {},
     "output_type": "execute_result"
    }
   ],
   "source": [
    "## Band matrix\n",
    "tensor_2_D = tf.constant([[1,2,0],[3,5,-1],[1,5,6],[2,3,8]], dtype = tf.float16)\n",
    "tensor_2_D"
   ]
  },
  {
   "cell_type": "code",
   "execution_count": 72,
   "id": "e9595d97",
   "metadata": {},
   "outputs": [
    {
     "data": {
      "text/plain": [
       "<tf.Tensor: shape=(4, 3), dtype=float16, numpy=\n",
       "array([[1., 0., 0.],\n",
       "       [0., 5., 0.],\n",
       "       [0., 0., 6.],\n",
       "       [0., 0., 0.]], dtype=float16)>"
      ]
     },
     "execution_count": 72,
     "metadata": {},
     "output_type": "execute_result"
    }
   ],
   "source": [
    "\n",
    "tf.linalg.band_part(tensor_2_D,0,0)\n",
    "### (Lower <0 or m-n <= lower) and (upper <0 or n-m <=upper)"
   ]
  },
  {
   "cell_type": "code",
   "execution_count": 82,
   "id": "65d30342",
   "metadata": {},
   "outputs": [
    {
     "data": {
      "text/plain": [
       "<tf.Tensor: shape=(3, 3), dtype=float32, numpy=\n",
       "array([[ 0.7413249 , -0.01892742,  0.3154574 ],\n",
       "       [-0.12933755, -0.00946371,  0.1577287 ],\n",
       "       [-0.01577287,  0.01104101, -0.01735016]], dtype=float32)>"
      ]
     },
     "execution_count": 82,
     "metadata": {},
     "output_type": "execute_result"
    }
   ],
   "source": [
    "## Inverse of matrix\n",
    "## only square matrix can have inverse\n",
    "tensor_2d = tf.constant([[1,-2,0],[3,5,100],[1,5,6]],dtype = tf.float32)\n",
    "tensor_2d_inv = tf.linalg.inv(tensor_2d)\n",
    "tensor_2d_inv"
   ]
  },
  {
   "cell_type": "code",
   "execution_count": 84,
   "id": "692adca4",
   "metadata": {},
   "outputs": [
    {
     "data": {
      "text/plain": [
       "<tf.Tensor: shape=(3, 3), dtype=float32, numpy=\n",
       "array([[ 1.0000000e+00,  1.7881393e-07,  2.8610229e-06],\n",
       "       [ 1.4901161e-08,  1.0000000e+00,  1.0728836e-06],\n",
       "       [ 0.0000000e+00, -3.7252903e-09,  9.9999988e-01]], dtype=float32)>"
      ]
     },
     "execution_count": 84,
     "metadata": {},
     "output_type": "execute_result"
    }
   ],
   "source": [
    "## product of two matrix is identity matrix\n",
    "tensor_2d_inv@tensor_2d"
   ]
  },
  {
   "cell_type": "code",
   "execution_count": 86,
   "id": "089728f6",
   "metadata": {},
   "outputs": [
    {
     "data": {
      "text/plain": [
       "(<tf.Tensor: shape=(3,), dtype=float32, numpy=array([100.3663   ,   5.1059036,   1.2371687], dtype=float32)>,\n",
       " <tf.Tensor: shape=(3, 3), dtype=float32, numpy=\n",
       " array([[-7.4980810e-04, -3.7569830e-01,  9.2674178e-01],\n",
       "        [ 9.9803799e-01, -5.8300879e-02, -2.2827482e-02],\n",
       "        [ 6.2606096e-02,  9.2490643e-01,  3.7500489e-01]], dtype=float32)>,\n",
       " <tf.Tensor: shape=(3, 3), dtype=float32, numpy=\n",
       " array([[ 0.03044816,  0.07330841,  0.99684453],\n",
       "        [ 0.0528536 ,  0.9957936 , -0.07484547],\n",
       "        [ 0.998138  , -0.05496572, -0.02644547]], dtype=float32)>)"
      ]
     },
     "execution_count": 86,
     "metadata": {},
     "output_type": "execute_result"
    }
   ],
   "source": [
    "## Singular value decomposition\n",
    "tf.linalg.svd(tensor_2d)"
   ]
  },
  {
   "cell_type": "code",
   "execution_count": null,
   "id": "e94ed19d",
   "metadata": {},
   "outputs": [],
   "source": []
  }
 ],
 "metadata": {
  "kernelspec": {
   "display_name": "Python 3 (ipykernel)",
   "language": "python",
   "name": "python3"
  },
  "language_info": {
   "codemirror_mode": {
    "name": "ipython",
    "version": 3
   },
   "file_extension": ".py",
   "mimetype": "text/x-python",
   "name": "python",
   "nbconvert_exporter": "python",
   "pygments_lexer": "ipython3",
   "version": "3.9.6"
  }
 },
 "nbformat": 4,
 "nbformat_minor": 5
}
