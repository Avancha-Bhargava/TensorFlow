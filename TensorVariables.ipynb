{
 "cells": [
  {
   "cell_type": "markdown",
   "id": "ba911e55",
   "metadata": {},
   "source": [
    "# TensorFlow Variables"
   ]
  },
  {
   "cell_type": "code",
   "execution_count": 19,
   "id": "8c78d8e0",
   "metadata": {},
   "outputs": [],
   "source": [
    "### Variables are mutable unlike constants which are unmutable"
   ]
  },
  {
   "cell_type": "code",
   "execution_count": 12,
   "id": "f2ade02b",
   "metadata": {},
   "outputs": [],
   "source": [
    "import tensorflow as tf"
   ]
  },
  {
   "cell_type": "code",
   "execution_count": 13,
   "id": "2b42d5dd",
   "metadata": {},
   "outputs": [],
   "source": [
    "x =  tf.constant([1,2])"
   ]
  },
  {
   "cell_type": "code",
   "execution_count": 14,
   "id": "94c7d210",
   "metadata": {},
   "outputs": [
    {
     "name": "stdout",
     "output_type": "stream",
     "text": [
      "<tf.Variable 'var1:0' shape=(2,) dtype=int32, numpy=array([1, 2], dtype=int32)>\n"
     ]
    }
   ],
   "source": [
    "x_var = tf.Variable(x,name = 'var1')\n",
    "print(x_var)"
   ]
  },
  {
   "cell_type": "code",
   "execution_count": 15,
   "id": "fa1dd98f",
   "metadata": {},
   "outputs": [
    {
     "data": {
      "text/plain": [
       "<tf.Variable 'UnreadVariable' shape=(2,) dtype=int32, numpy=array([-2, -6], dtype=int32)>"
      ]
     },
     "execution_count": 15,
     "metadata": {},
     "output_type": "execute_result"
    }
   ],
   "source": [
    "## substracting the variable\n",
    "x_var.assign_sub([3,8])"
   ]
  },
  {
   "cell_type": "code",
   "execution_count": 17,
   "id": "2cfc9673",
   "metadata": {},
   "outputs": [
    {
     "data": {
      "text/plain": [
       "<tf.Variable 'UnreadVariable' shape=(2,) dtype=int32, numpy=array([2, 6], dtype=int32)>"
      ]
     },
     "execution_count": 17,
     "metadata": {},
     "output_type": "execute_result"
    }
   ],
   "source": [
    "## add to variable\n",
    "x_var.assign_add([2,6])"
   ]
  },
  {
   "cell_type": "code",
   "execution_count": 18,
   "id": "3fd234a2",
   "metadata": {},
   "outputs": [
    {
     "name": "stdout",
     "output_type": "stream",
     "text": [
      "/job:localhost/replica:0/task:0/device:CPU:0\n"
     ]
    }
   ],
   "source": [
    "with tf.device('GPU:0'):\n",
    "    x_var = tf.Variable(0.2)\n",
    "    \n",
    "print(x_var.device)"
   ]
  },
  {
   "cell_type": "code",
   "execution_count": null,
   "id": "c5de5c18",
   "metadata": {},
   "outputs": [],
   "source": [
    " with tf.device('CPU:0'):\n",
    "    x1= tf.Variable([1,3,4])\n",
    "    x2 = tf.variable([1])\n",
    "with tf.device('GPU:0'):\n",
    "    x3=x1+x2\n",
    "    \n"
   ]
  }
 ],
 "metadata": {
  "kernelspec": {
   "display_name": "Python 3 (ipykernel)",
   "language": "python",
   "name": "python3"
  },
  "language_info": {
   "codemirror_mode": {
    "name": "ipython",
    "version": 3
   },
   "file_extension": ".py",
   "mimetype": "text/x-python",
   "name": "python",
   "nbconvert_exporter": "python",
   "pygments_lexer": "ipython3",
   "version": "3.9.6"
  }
 },
 "nbformat": 4,
 "nbformat_minor": 5
}
