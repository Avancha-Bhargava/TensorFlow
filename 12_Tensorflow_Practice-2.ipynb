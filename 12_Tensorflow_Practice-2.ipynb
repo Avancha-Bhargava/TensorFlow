{
 "cells": [
  {
   "cell_type": "markdown",
   "metadata": {
    "id": "yz0bsk9HDL4F"
   },
   "source": [
    "In this notebook, you will write code to build, compile and fit a neural network model to the MNIST dataset of images of handwritten digits."
   ]
  },
  {
   "cell_type": "markdown",
   "metadata": {
    "id": "WHKroG4m83Jj"
   },
   "source": [
    "#### The MNIST dataset\n",
    "\n",
    "In this assignment, you will use the [MNIST dataset](http://yann.lecun.com/exdb/mnist/). It consists of a training set of 60,000 handwritten digits with corresponding labels, and a test set of 10,000 images. The dataset is frequently used in machine learning research, and has become a standard benchmark for image classification models. \n",
    "\n",
    "- Y. LeCun, L. Bottou, Y. Bengio, and P. Haffner. \"Gradient-based learning applied to document recognition.\" Proceedings of the IEEE, 86(11):2278-2324, November 1998.\n",
    "\n",
    "Your goal is to construct a neural network that classifies images of handwritten digits into one of 10 classes."
   ]
  },
  {
   "cell_type": "markdown",
   "metadata": {
    "id": "TZK9RAnX7CP0"
   },
   "source": [
    "# 1) Import"
   ]
  },
  {
   "cell_type": "code",
   "execution_count": 1,
   "metadata": {
    "colab": {
     "base_uri": "https://localhost:8080/",
     "height": 37
    },
    "id": "sc9TZiRKCxTP",
    "outputId": "734aa1f9-5d13-44bf-fc2e-eef39ec6728b"
   },
   "outputs": [
    {
     "data": {
      "text/plain": [
       "'2.9.1'"
      ]
     },
     "execution_count": 1,
     "metadata": {},
     "output_type": "execute_result"
    }
   ],
   "source": [
    "import tensorflow as tf\n",
    "# check the version\n",
    "tf.__version__"
   ]
  },
  {
   "cell_type": "code",
   "execution_count": 2,
   "metadata": {
    "id": "uG63UM0sDA9L"
   },
   "outputs": [],
   "source": [
    "from tensorflow.keras.models import Sequential\n",
    "from tensorflow.keras.layers import Dense, Flatten, Dropout \n",
    "from tensorflow.keras import regularizers\n",
    "from tensorflow.keras.callbacks import Callback\n",
    "from tensorflow.keras.preprocessing import image"
   ]
  },
  {
   "cell_type": "code",
   "execution_count": 3,
   "metadata": {
    "id": "4Z31-vPwDELs"
   },
   "outputs": [],
   "source": [
    "import numpy as np\n",
    "import pandas as pd\n",
    "import matplotlib.pyplot as plt\n",
    "%matplotlib inline"
   ]
  },
  {
   "cell_type": "markdown",
   "metadata": {
    "id": "bIzGv9ukB2Pl"
   },
   "source": [
    "# 2) Load Data"
   ]
  },
  {
   "cell_type": "code",
   "execution_count": 4,
   "metadata": {
    "colab": {
     "base_uri": "https://localhost:8080/"
    },
    "id": "xP8XN1vBxx-C",
    "outputId": "12a4a133-3bcb-4144-f095-da2dd1553f0e"
   },
   "outputs": [
    {
     "ename": "ModuleNotFoundError",
     "evalue": "No module named 'google.colab'",
     "output_type": "error",
     "traceback": [
      "\u001b[1;31m---------------------------------------------------------------------------\u001b[0m",
      "\u001b[1;31mModuleNotFoundError\u001b[0m                       Traceback (most recent call last)",
      "\u001b[1;32m<ipython-input-4-4fe5e8ab0df2>\u001b[0m in \u001b[0;36m<module>\u001b[1;34m\u001b[0m\n\u001b[1;32m----> 1\u001b[1;33m \u001b[1;32mfrom\u001b[0m \u001b[0mgoogle\u001b[0m\u001b[1;33m.\u001b[0m\u001b[0mcolab\u001b[0m \u001b[1;32mimport\u001b[0m \u001b[0mdrive\u001b[0m\u001b[1;33m\u001b[0m\u001b[1;33m\u001b[0m\u001b[0m\n\u001b[0m\u001b[0;32m      2\u001b[0m \u001b[0mdrive\u001b[0m\u001b[1;33m.\u001b[0m\u001b[0mmount\u001b[0m\u001b[1;33m(\u001b[0m\u001b[1;34m'gdrive'\u001b[0m\u001b[1;33m)\u001b[0m\u001b[1;33m\u001b[0m\u001b[1;33m\u001b[0m\u001b[0m\n",
      "\u001b[1;31mModuleNotFoundError\u001b[0m: No module named 'google.colab'"
     ]
    }
   ],
   "source": [
    "from google.colab import drive\n",
    "drive.mount('gdrive')"
   ]
  },
  {
   "cell_type": "code",
   "execution_count": null,
   "metadata": {
    "id": "eJ_TfuqZD1TX"
   },
   "outputs": [],
   "source": [
    "# load from csv file\n",
    "data = np.loadtxt('gdrive/My Drive/Colab Notebooks/DL/mnist.csv', delimiter=',')\n",
    "\n",
    "\n",
    "X = data[:, 1:]\n",
    "y = data[:, 0]"
   ]
  },
  {
   "cell_type": "code",
   "execution_count": 65,
   "metadata": {
    "id": "TYsFtiajxx-E"
   },
   "outputs": [],
   "source": [
    "# Run this cell to load the MNIST data\n",
    "\n",
    "mnist_data = tf.keras.datasets.mnist\n",
    "(X_train, y_train), (X_test, y_test) = mnist_data.load_data()\n",
    "\n",
    "#Note: If you upload data using this cell, you need to flatten your data in your sequential model."
   ]
  },
  {
   "cell_type": "code",
   "execution_count": 66,
   "metadata": {
    "colab": {
     "base_uri": "https://localhost:8080/"
    },
    "id": "KrPG2Szy9ieU",
    "outputId": "bcd7798a-d626-498a-e4bf-29094e4a7b3e"
   },
   "outputs": [
    {
     "name": "stdout",
     "output_type": "stream",
     "text": [
      "X shape:  (60000, 784)\n",
      "y shape:  (60000,)\n"
     ]
    }
   ],
   "source": [
    "print(\"X shape: \", X.shape) \n",
    "print(\"y shape: \", y.shape) "
   ]
  },
  {
   "cell_type": "code",
   "execution_count": 67,
   "metadata": {
    "colab": {
     "base_uri": "https://localhost:8080/"
    },
    "id": "wSPPEP6BEH3y",
    "outputId": "fd419e4e-ab56-429d-e437-e5858048ceec"
   },
   "outputs": [
    {
     "name": "stdout",
     "output_type": "stream",
     "text": [
      "minimum y value:  0.0\n",
      "maximum y value:  9.0\n"
     ]
    }
   ],
   "source": [
    "print(\"minimum y value: \", min(y))\n",
    "print(\"maximum y value: \", max(y))"
   ]
  },
  {
   "cell_type": "code",
   "execution_count": 68,
   "metadata": {
    "id": "FvN1_ET5HFKv"
   },
   "outputs": [],
   "source": [
    "# Rescale the image values so that they lie in between 0 and 1.\n",
    "# Rescale the image values so that they lie in between 0 and 1.\n",
    "X = X/255.\n",
    "\n",
    "#Note: If you upload data using tf.keras.datasets.mnist, rescale using:\n",
    "X_train = X_train / 255.\n",
    "X_test = X_test / 255."
   ]
  },
  {
   "cell_type": "code",
   "execution_count": 69,
   "metadata": {
    "colab": {
     "base_uri": "https://localhost:8080/",
     "height": 282
    },
    "id": "efJdgCiO-EaA",
    "outputId": "a55b0f81-0828-493b-fddb-9dfac589947e"
   },
   "outputs": [
    {
     "data": {
      "image/png": "[encoded data removed]",
      "text/plain": [
       "<Figure size 432x288 with 1 Axes>"
      ]
     },
     "metadata": {
      "needs_background": "light"
     },
     "output_type": "display_data"
    },
    {
     "name": "stdout",
     "output_type": "stream",
     "text": [
      "label: [5]\n"
     ]
    }
   ],
   "source": [
    "# Display one of the images\n",
    "\n",
    "i = 0\n",
    "img = X_train[i, : , :]\n",
    "plt.imshow(img)\n",
    "plt.show()\n",
    "print(f\"label: {[y_train[i]]}\")"
   ]
  },
  {
   "cell_type": "markdown",
   "metadata": {
    "id": "X5Jvh-YZxx-J"
   },
   "source": [
    "Let's split the data to a 80/20 training/test sets."
   ]
  },
  {
   "cell_type": "code",
   "execution_count": 70,
   "metadata": {
    "id": "Cc0Rstz4xx-K"
   },
   "outputs": [],
   "source": [
    "# example a 80/20 training/test split\n",
    "\n",
    "from sklearn.model_selection import train_test_split\n",
    "X_train, X_test, y_train, y_test = train_test_split(X, y, test_size=0.2)\n",
    "\n",
    "#we will define validation set later:\n",
    "#model.fit(X_train, y_train, validation_split=0.25)"
   ]
  },
  {
   "cell_type": "code",
   "execution_count": 71,
   "metadata": {
    "colab": {
     "base_uri": "https://localhost:8080/"
    },
    "id": "u72m8dXuxx-L",
    "outputId": "53788ee8-4683-4d23-a872-29be31b90201"
   },
   "outputs": [
    {
     "name": "stdout",
     "output_type": "stream",
     "text": [
      "train X shape:  (48000, 784)\n",
      "train y shape:  (48000,)\n",
      "test X shape:  (12000, 784)\n",
      "test y shape:  (12000,)\n"
     ]
    }
   ],
   "source": [
    "print(\"train X shape: \", X_train.shape) # X_train: numpy array with shape: (num_samples_train, num_features)\n",
    "print(\"train y shape: \", y_train.shape) # y_train: numpy array with shape: (num_samples_train,) \n",
    "print(\"test X shape: \", X_test.shape)   # X_test: numpy array with shape: (num_samples_test, num_features)\n",
    "print(\"test y shape: \", y_test.shape)   # y_test: numpy array with shape: (num_samples_test,)"
   ]
  },
  {
   "cell_type": "markdown",
   "metadata": {
    "id": "PeATzr9oB6xG"
   },
   "source": [
    "# 3) Build Model"
   ]
  },
  {
   "cell_type": "markdown",
   "metadata": {
    "id": "MmfMU587G6Jo"
   },
   "source": [
    "Build a NN model, with one hidden layer, with 32 units, with a relu activation function. The output layer is a multi-class layer with 10 classes (activation function is softmax)."
   ]
  },
  {
   "cell_type": "code",
   "execution_count": 72,
   "metadata": {
    "id": "oUPJcnP4G30C"
   },
   "outputs": [],
   "source": [
    "# build the model\n",
    "\n",
    "model = model = Sequential([\n",
    "                    Dense(32, activation = 'relu',input_shape=(784,)),\n",
    "                    Dense(10, activation = 'softmax')\n",
    "])"
   ]
  },
  {
   "cell_type": "code",
   "execution_count": 73,
   "metadata": {
    "colab": {
     "base_uri": "https://localhost:8080/"
    },
    "id": "QeI2jBiUHwNv",
    "outputId": "0aa0e9bd-ee51-4319-bc42-0ce6707c8f09"
   },
   "outputs": [
    {
     "name": "stdout",
     "output_type": "stream",
     "text": [
      "Model: \"sequential_1\"\n",
      "_________________________________________________________________\n",
      " Layer (type)                Output Shape              Param #   \n",
      "=================================================================\n",
      " dense_2 (Dense)             (None, 32)                25120     \n",
      "                                                                 \n",
      " dense_3 (Dense)             (None, 10)                330       \n",
      "                                                                 \n",
      "=================================================================\n",
      "Total params: 25,450\n",
      "Trainable params: 25,450\n",
      "Non-trainable params: 0\n",
      "_________________________________________________________________\n"
     ]
    }
   ],
   "source": [
    "model.summary()"
   ]
  },
  {
   "cell_type": "markdown",
   "metadata": {
    "id": "ebuoU9KqB9Rw"
   },
   "source": [
    "# 4) Start Training (Compile)"
   ]
  },
  {
   "cell_type": "markdown",
   "metadata": {
    "id": "q8CyozzxIBwQ"
   },
   "source": [
    "Compile the model. Use Adam optimizer and change the learning rate to 0.003. For loss, use 'sparse_categorical_crossentropy' and for metrics use 'SparseCategoricalAccuracy'."
   ]
  },
  {
   "cell_type": "code",
   "execution_count": 74,
   "metadata": {
    "id": "MgNYXCQiHzKA"
   },
   "outputs": [],
   "source": [
    "# compile the model\n",
    "\n",
    "model.compile(optimizer = tf.keras.optimizers.Adam(learning_rate = 0.003),\n",
    "    loss = 'sparse_categorical_crossentropy', # Use this loss function when the y labels are integers. \n",
    "    metrics = [tf.keras.metrics.SparseCategoricalAccuracy()] # Use this accuracy when the y labels are integers.\n",
    " )\n"
   ]
  },
  {
   "cell_type": "code",
   "execution_count": 75,
   "metadata": {
    "colab": {
     "base_uri": "https://localhost:8080/"
    },
    "id": "6q_xQYyaTX7D",
    "outputId": "fa28c68f-711b-430e-ea86-0dba86591337"
   },
   "outputs": [
    {
     "data": {
      "text/plain": [
       "(48000, 784)"
      ]
     },
     "execution_count": 75,
     "metadata": {},
     "output_type": "execute_result"
    }
   ],
   "source": [
    "X_train.shape"
   ]
  },
  {
   "cell_type": "code",
   "execution_count": 76,
   "metadata": {
    "colab": {
     "base_uri": "https://localhost:8080/"
    },
    "id": "B0BepvbKTZ-2",
    "outputId": "e8ef9cde-e13e-41ae-e99f-f86e07dc0a68"
   },
   "outputs": [
    {
     "data": {
      "text/plain": [
       "(48000,)"
      ]
     },
     "execution_count": 76,
     "metadata": {},
     "output_type": "execute_result"
    }
   ],
   "source": [
    "y_train.shape"
   ]
  },
  {
   "cell_type": "markdown",
   "metadata": {
    "id": "m-aK9aj7CC3V"
   },
   "source": [
    "# 5) Model Fit"
   ]
  },
  {
   "cell_type": "markdown",
   "metadata": {
    "id": "rOI5nlOyJlwm"
   },
   "source": [
    "Fit the model (without leaving out any training data for cross validation). Use 20 epochs. And use batch size of 64. Use verbose=2."
   ]
  },
  {
   "cell_type": "code",
   "execution_count": 77,
   "metadata": {
    "colab": {
     "base_uri": "https://localhost:8080/"
    },
    "id": "qtRfdYtnIsys",
    "outputId": "3f2ef19a-944a-47aa-8db3-29c1fdbb898e"
   },
   "outputs": [
    {
     "name": "stdout",
     "output_type": "stream",
     "text": [
      "Epoch 1/20\n",
      "750/750 - 2s - loss: 0.3261 - sparse_categorical_accuracy: 0.9046 - 2s/epoch - 3ms/step\n",
      "Epoch 2/20\n",
      "750/750 - 3s - loss: 0.1735 - sparse_categorical_accuracy: 0.9483 - 3s/epoch - 3ms/step\n",
      "Epoch 3/20\n",
      "750/750 - 2s - loss: 0.1340 - sparse_categorical_accuracy: 0.9597 - 2s/epoch - 3ms/step\n",
      "Epoch 4/20\n",
      "750/750 - 1s - loss: 0.1126 - sparse_categorical_accuracy: 0.9662 - 1s/epoch - 2ms/step\n",
      "Epoch 5/20\n",
      "750/750 - 1s - loss: 0.0999 - sparse_categorical_accuracy: 0.9697 - 1s/epoch - 2ms/step\n",
      "Epoch 6/20\n",
      "750/750 - 2s - loss: 0.0882 - sparse_categorical_accuracy: 0.9728 - 2s/epoch - 2ms/step\n",
      "Epoch 7/20\n",
      "750/750 - 1s - loss: 0.0798 - sparse_categorical_accuracy: 0.9751 - 1s/epoch - 2ms/step\n",
      "Epoch 8/20\n",
      "750/750 - 1s - loss: 0.0730 - sparse_categorical_accuracy: 0.9767 - 1s/epoch - 2ms/step\n",
      "Epoch 9/20\n",
      "750/750 - 1s - loss: 0.0676 - sparse_categorical_accuracy: 0.9784 - 1s/epoch - 2ms/step\n",
      "Epoch 10/20\n",
      "750/750 - 1s - loss: 0.0617 - sparse_categorical_accuracy: 0.9809 - 1s/epoch - 2ms/step\n",
      "Epoch 11/20\n",
      "750/750 - 1s - loss: 0.0567 - sparse_categorical_accuracy: 0.9819 - 1s/epoch - 2ms/step\n",
      "Epoch 12/20\n",
      "750/750 - 1s - loss: 0.0549 - sparse_categorical_accuracy: 0.9825 - 1s/epoch - 2ms/step\n",
      "Epoch 13/20\n",
      "750/750 - 1s - loss: 0.0512 - sparse_categorical_accuracy: 0.9831 - 1s/epoch - 2ms/step\n",
      "Epoch 14/20\n",
      "750/750 - 1s - loss: 0.0456 - sparse_categorical_accuracy: 0.9846 - 1s/epoch - 2ms/step\n",
      "Epoch 15/20\n",
      "750/750 - 1s - loss: 0.0416 - sparse_categorical_accuracy: 0.9860 - 1s/epoch - 2ms/step\n",
      "Epoch 16/20\n",
      "750/750 - 1s - loss: 0.0416 - sparse_categorical_accuracy: 0.9864 - 1s/epoch - 2ms/step\n",
      "Epoch 17/20\n",
      "750/750 - 1s - loss: 0.0391 - sparse_categorical_accuracy: 0.9867 - 1s/epoch - 2ms/step\n",
      "Epoch 18/20\n",
      "750/750 - 1s - loss: 0.0376 - sparse_categorical_accuracy: 0.9879 - 1s/epoch - 2ms/step\n",
      "Epoch 19/20\n",
      "750/750 - 1s - loss: 0.0334 - sparse_categorical_accuracy: 0.9891 - 1s/epoch - 2ms/step\n",
      "Epoch 20/20\n",
      "750/750 - 2s - loss: 0.0315 - sparse_categorical_accuracy: 0.9897 - 2s/epoch - 2ms/step\n"
     ]
    }
   ],
   "source": [
    "# fit the model\n",
    "\n",
    "history = model.fit(X_train, y_train, epochs = 20, batch_size = 64, verbose = 2)\n"
   ]
  },
  {
   "cell_type": "code",
   "execution_count": 78,
   "metadata": {
    "id": "kE7xG-ItcwnY"
   },
   "outputs": [],
   "source": [
    "# Load the history into a pandas Dataframe\n",
    "\n",
    "df = pd.DataFrame(history.history)"
   ]
  },
  {
   "cell_type": "code",
   "execution_count": 79,
   "metadata": {
    "colab": {
     "base_uri": "https://localhost:8080/",
     "height": 312
    },
    "id": "A44blh2JMe_4",
    "outputId": "caf3b0a3-89ea-4e9e-8741-597d21fdc80c"
   },
   "outputs": [
    {
     "data": {
      "text/plain": [
       "[Text(0, 0.5, 'Loss'), Text(0.5, 0, 'Epochs')]"
      ]
     },
     "execution_count": 79,
     "metadata": {},
     "output_type": "execute_result"
    },
    {
     "data": {
      "image/png": "[encoded data removed]",
      "text/plain": [
       "<Figure size 432x288 with 1 Axes>"
      ]
     },
     "metadata": {
      "needs_background": "light"
     },
     "output_type": "display_data"
    }
   ],
   "source": [
    "# Make a plot for the loss\n",
    "\n",
    "loss_plot = df.plot(y=\"loss\", title = \"Loss vs. Epochs\", legend=False)\n",
    "loss_plot.set(xlabel=\"Epochs\", ylabel=\"Loss\")"
   ]
  },
  {
   "cell_type": "code",
   "execution_count": 80,
   "metadata": {
    "colab": {
     "base_uri": "https://localhost:8080/",
     "height": 296
    },
    "id": "q20WG7IZMgsR",
    "outputId": "5032303a-0688-4049-960a-4cee1ad3f5eb"
   },
   "outputs": [
    {
     "data": {
      "text/plain": [
       "[Text(0, 0.5, 'sparse_categorical_accuracy'), Text(0.5, 0, 'Epochs')]"
      ]
     },
     "execution_count": 80,
     "metadata": {},
     "output_type": "execute_result"
    },
    {
     "data": {
      "image/png": "[encoded data removed]",
      "text/plain": [
       "<Figure size 432x288 with 1 Axes>"
      ]
     },
     "metadata": {
      "needs_background": "light"
     },
     "output_type": "display_data"
    }
   ],
   "source": [
    "# Make a plot for the accuracy\n",
    "\n",
    "accuracy_plot = df.plot(y=\"sparse_categorical_accuracy\", legend=False)\n",
    "accuracy_plot.set(xlabel=\"Epochs\", ylabel=\"sparse_categorical_accuracy\")"
   ]
  },
  {
   "cell_type": "markdown",
   "metadata": {
    "id": "k1gwXv1aCGnN"
   },
   "source": [
    "# 6) Model Evaluate on Test"
   ]
  },
  {
   "cell_type": "code",
   "execution_count": 132,
   "metadata": {
    "colab": {
     "base_uri": "https://localhost:8080/"
    },
    "id": "Uce6sLgkKcFz",
    "outputId": "1e07d4cc-8fe8-40d2-eb87-0d308012d0f2"
   },
   "outputs": [
    {
     "name": "stdout",
     "output_type": "stream",
     "text": [
      "375/375 [==============================] - 1s 3ms/step - loss: 0.1159 - sparse_categorical_accuracy: 0.9698\n"
     ]
    },
    {
     "data": {
      "text/plain": [
       "[0.1159256175160408, 0.9698333144187927]"
      ]
     },
     "execution_count": 132,
     "metadata": {},
     "output_type": "execute_result"
    }
   ],
   "source": [
    "model.evaluate(X_test, y_test)"
   ]
  },
  {
   "cell_type": "markdown",
   "metadata": {
    "id": "7WPrZSdhCNRM"
   },
   "source": [
    "# 7) Model Predict"
   ]
  },
  {
   "cell_type": "code",
   "execution_count": 97,
   "metadata": {
    "colab": {
     "base_uri": "https://localhost:8080/"
    },
    "id": "XGdDP7-EhQvc",
    "outputId": "b32fe5ec-bd86-4db5-ab17-5089c0e56a6a"
   },
   "outputs": [
    {
     "data": {
      "text/plain": [
       "12000"
      ]
     },
     "execution_count": 97,
     "metadata": {},
     "output_type": "execute_result"
    }
   ],
   "source": [
    "X_test.shape[0]"
   ]
  },
  {
   "cell_type": "code",
   "execution_count": 133,
   "metadata": {
    "colab": {
     "base_uri": "https://localhost:8080/",
     "height": 282
    },
    "id": "1OlWo1oJKdAf",
    "outputId": "2e210ae3-6c94-41d8-f333-ada5e16a618a"
   },
   "outputs": [
    {
     "data": {
      "image/png": "[encoded data removed]",
      "text/plain": [
       "<Figure size 432x288 with 1 Axes>"
      ]
     },
     "metadata": {
      "needs_background": "light"
     },
     "output_type": "display_data"
    },
    {
     "name": "stdout",
     "output_type": "stream",
     "text": [
      "Label: [5.0]\n"
     ]
    }
   ],
   "source": [
    "# Choose a random test image\n",
    "\n",
    "random_inx = np.random.choice(X_test.shape[0])\n",
    "X_sample = X_test[random_inx,:]\n",
    "plt.imshow(X_sample.reshape(28,28))\n",
    "plt.show()\n",
    "print(f\"Label: {[y_test[random_inx]]}\")"
   ]
  },
  {
   "cell_type": "code",
   "execution_count": 135,
   "metadata": {
    "colab": {
     "base_uri": "https://localhost:8080/"
    },
    "id": "bvXz3_Yqp4P3",
    "outputId": "b77fda1c-c04a-4d78-dd6b-04685b8138f4"
   },
   "outputs": [
    {
     "data": {
      "text/plain": [
       "(784,)"
      ]
     },
     "execution_count": 135,
     "metadata": {},
     "output_type": "execute_result"
    }
   ],
   "source": [
    "X_sample.shape"
   ]
  },
  {
   "cell_type": "code",
   "execution_count": 136,
   "metadata": {
    "colab": {
     "base_uri": "https://localhost:8080/"
    },
    "id": "vgD04i7PLDut",
    "outputId": "a5837749-5fa4-443e-c265-5fb5591ee2be"
   },
   "outputs": [
    {
     "data": {
      "text/plain": [
       "(1, 784)"
      ]
     },
     "execution_count": 136,
     "metadata": {},
     "output_type": "execute_result"
    }
   ],
   "source": [
    "X_sample = X_sample.reshape(1,784)\n",
    "X_sample.shape"
   ]
  },
  {
   "cell_type": "code",
   "execution_count": 137,
   "metadata": {
    "colab": {
     "base_uri": "https://localhost:8080/"
    },
    "id": "XH3hKmVGMt8Q",
    "outputId": "507f996b-7a8b-44ff-9ffc-e6d6d712051b"
   },
   "outputs": [
    {
     "data": {
      "text/plain": [
       "array([[2.9599287e-12, 3.9447682e-06, 3.9686250e-09, 1.9392716e-03,\n",
       "        7.6279934e-11, 9.9803787e-01, 2.2778454e-10, 1.8199445e-13,\n",
       "        4.7442674e-07, 1.8393954e-05]], dtype=float32)"
      ]
     },
     "execution_count": 137,
     "metadata": {},
     "output_type": "execute_result"
    }
   ],
   "source": [
    "# Get the model predictions\n",
    "\n",
    "model.predict(X_sample)"
   ]
  },
  {
   "cell_type": "code",
   "execution_count": 138,
   "metadata": {
    "colab": {
     "base_uri": "https://localhost:8080/"
    },
    "id": "gJ7WjDA2Myy9",
    "outputId": "a750d537-90ca-468d-90e7-d5116d17157f"
   },
   "outputs": [
    {
     "name": "stdout",
     "output_type": "stream",
     "text": [
      "Actual y value:5.0\n",
      "Model prediction:5\n"
     ]
    }
   ],
   "source": [
    "predictions = model.predict(X_sample)\n",
    "print(f\"Actual y value:{y_test[random_inx]}\")\n",
    "print(f\"Model prediction:{np.argmax(predictions)}\")"
   ]
  },
  {
   "cell_type": "markdown",
   "metadata": {
    "id": "iHEytsgYCQ8I"
   },
   "source": [
    "# 8) Model Fit with Validation Sets"
   ]
  },
  {
   "cell_type": "markdown",
   "metadata": {
    "id": "54uyKiNJKAba"
   },
   "source": [
    "Fit the model (with holding 25% of the training data for cross validation)."
   ]
  },
  {
   "cell_type": "code",
   "execution_count": 105,
   "metadata": {
    "id": "KOYicGW1JHN3"
   },
   "outputs": [],
   "source": [
    "# fit the model with validation set\n",
    "\n",
    "history = model.fit(X_train, y_train, epochs = 25, batch_size = 256, verbose = False, validation_split=0.2)"
   ]
  },
  {
   "cell_type": "code",
   "execution_count": 106,
   "metadata": {
    "colab": {
     "base_uri": "https://localhost:8080/",
     "height": 295
    },
    "id": "7CIjJnggNo1X",
    "outputId": "144b5f56-d4bf-40fb-9be8-38c3bf2f7616"
   },
   "outputs": [
    {
     "data": {
      "image/png": "[encoded data removed]",
      "text/plain": [
       "<Figure size 432x288 with 1 Axes>"
      ]
     },
     "metadata": {
      "needs_background": "light"
     },
     "output_type": "display_data"
    }
   ],
   "source": [
    "# Plot the training and validation loss\n",
    "\n",
    "plt.plot(history.history['loss'])\n",
    "plt.plot(history.history['val_loss'])\n",
    "plt.title('Loss vs. epochs')\n",
    "plt.ylabel('Loss')\n",
    "plt.xlabel('Epoch')\n",
    "plt.legend(['Training', 'Validation'], loc='upper right')\n",
    "plt.show()"
   ]
  },
  {
   "cell_type": "markdown",
   "metadata": {
    "id": "eI1wldH-e32A"
   },
   "source": [
    "Do we have an overfit issue?"
   ]
  },
  {
   "cell_type": "code",
   "execution_count": 139,
   "metadata": {
    "id": "Ih7nSNvLe6bC"
   },
   "outputs": [],
   "source": [
    "#Yes, we have overfit issue as it has better fit for training and worse fit for Validation"
   ]
  },
  {
   "cell_type": "markdown",
   "metadata": {
    "id": "-B867f1RCZ9q"
   },
   "source": [
    "# 9) Reduce Overfit - Change the NN Model"
   ]
  },
  {
   "cell_type": "code",
   "execution_count": 112,
   "metadata": {
    "id": "fViYrV9Vyz-2"
   },
   "outputs": [],
   "source": [
    "# build a shallower model\n",
    "\n",
    "model = Sequential([\n",
    "                    Flatten(input_shape = (784,)),\n",
    "                    Dense(16, activation = 'relu'),\n",
    "                    Dense(10, activation = 'softmax')\n",
    "])"
   ]
  },
  {
   "cell_type": "code",
   "execution_count": 113,
   "metadata": {
    "id": "1ON3zfpYzDr7"
   },
   "outputs": [],
   "source": [
    "# compile the model\n",
    "\n",
    "model.compile(optimizer = tf.keras.optimizers.Adam(learning_rate = 0.005),\n",
    "    loss = 'sparse_categorical_crossentropy', # Use this loss function when the y labels are integers. \n",
    "    metrics = [tf.keras.metrics.SparseCategoricalAccuracy()] # Use this accuracy when the y labels are integers.\n",
    "    )"
   ]
  },
  {
   "cell_type": "code",
   "execution_count": 114,
   "metadata": {
    "id": "rYOA_3jqzGRc"
   },
   "outputs": [],
   "source": [
    "# fit the model with validation set\n",
    "\n",
    "history = model.fit(X_train, y_train, epochs = 25, batch_size = 256, verbose = False, validation_split=0.2) "
   ]
  },
  {
   "cell_type": "code",
   "execution_count": 115,
   "metadata": {
    "colab": {
     "base_uri": "https://localhost:8080/",
     "height": 295
    },
    "id": "BE5o3ntAzOKs",
    "outputId": "0283094b-af01-4535-b6c3-89ae4a966ed5"
   },
   "outputs": [
    {
     "data": {
      "image/png": "[encoded data removed]",
      "text/plain": [
       "<Figure size 432x288 with 1 Axes>"
      ]
     },
     "metadata": {
      "needs_background": "light"
     },
     "output_type": "display_data"
    }
   ],
   "source": [
    "# Plot the training and validation loss\n",
    "\n",
    "plt.plot(history.history['loss'])\n",
    "plt.plot(history.history['val_loss'])\n",
    "plt.title('Loss vs. epochs')\n",
    "plt.ylabel('Loss')\n",
    "plt.xlabel('Epoch')\n",
    "plt.legend(['Training', 'Validation'], loc='upper right')\n",
    "plt.show()"
   ]
  },
  {
   "cell_type": "markdown",
   "metadata": {
    "id": "A4k2dG2Vz4ZB"
   },
   "source": [
    "How is the overfitting situation?"
   ]
  },
  {
   "cell_type": "code",
   "execution_count": null,
   "metadata": {
    "id": "lncqdCeVz6o8"
   },
   "outputs": [],
   "source": [
    "#This is not overfit. The fit is better but not ideal"
   ]
  },
  {
   "cell_type": "markdown",
   "metadata": {
    "id": "OGBDG3tKyp0X"
   },
   "source": [
    "# 10) Reduce Overfit - L2 Regularization"
   ]
  },
  {
   "cell_type": "markdown",
   "metadata": {
    "id": "YMvjI4vmgMyC"
   },
   "source": [
    "Use a penalty rate of 0.001."
   ]
  },
  {
   "cell_type": "code",
   "execution_count": 118,
   "metadata": {
    "id": "c6ja8wWXgJQA"
   },
   "outputs": [],
   "source": [
    "# build a model \n",
    "# add l2 regularizer to your first model\n",
    "\n",
    "model = Sequential([\n",
    "                    Flatten(input_shape = (784, )),\n",
    "                    Dense(64, activation='relu', kernel_regularizer=tf.keras.regularizers.l2(0.001)), # penalty rate (or lambda) =0.001\n",
    "                    Dense(10, activation = 'softmax', kernel_regularizer=tf.keras.regularizers.l2(0.001))\n",
    "])\n"
   ]
  },
  {
   "cell_type": "code",
   "execution_count": 119,
   "metadata": {
    "id": "yoM-6k51gI1r"
   },
   "outputs": [],
   "source": [
    "# compile the model\n",
    "\n",
    "model.compile(\n",
    "     optimizer = tf.keras.optimizers.Adam(learning_rate = 0.005),\n",
    "     loss = 'sparse_categorical_crossentropy', # Use this loss function when the y labels are integers. \n",
    "     metrics = [tf.keras.metrics.SparseCategoricalAccuracy()] # Use this accuracy when the y labels are integers.\n",
    " )"
   ]
  },
  {
   "cell_type": "code",
   "execution_count": 120,
   "metadata": {
    "id": "zaUvAQaRg5ri"
   },
   "outputs": [],
   "source": [
    "# fit the model with validation set\n",
    "\n",
    "history = model.fit(X_train, y_train, epochs = 25, batch_size = 256, verbose = False, validation_split=0.2) "
   ]
  },
  {
   "cell_type": "code",
   "execution_count": 121,
   "metadata": {
    "colab": {
     "base_uri": "https://localhost:8080/",
     "height": 295
    },
    "id": "3_BWDBbTg9dV",
    "outputId": "2fd895b2-433e-4b1e-efd2-4abf017d2617"
   },
   "outputs": [
    {
     "data": {
      "image/png": "[encoded data removed]",
      "text/plain": [
       "<Figure size 432x288 with 1 Axes>"
      ]
     },
     "metadata": {
      "needs_background": "light"
     },
     "output_type": "display_data"
    }
   ],
   "source": [
    "# Plot the training and validation loss\n",
    "\n",
    "plt.plot(history.history['loss'])\n",
    "plt.plot(history.history['val_loss'])\n",
    "plt.title('Loss vs. epochs')\n",
    "plt.ylabel('Loss')\n",
    "plt.xlabel('Epoch')\n",
    "plt.legend(['Training', 'Validation'], loc='upper right')\n",
    "plt.show()"
   ]
  },
  {
   "cell_type": "markdown",
   "metadata": {
    "id": "CBPy7rwohRRV"
   },
   "source": [
    "How is the overfitting situation?"
   ]
  },
  {
   "cell_type": "code",
   "execution_count": null,
   "metadata": {
    "id": "huyy7tCrhSBZ"
   },
   "outputs": [],
   "source": [
    "#There is no overfit here. This looks like the ideal fit"
   ]
  },
  {
   "cell_type": "markdown",
   "metadata": {
    "id": "qkf_zsuiCddm"
   },
   "source": [
    "# 11) Reduce Overfit - Dropout Regularization"
   ]
  },
  {
   "cell_type": "markdown",
   "metadata": {
    "id": "DCzs_F51h9r8"
   },
   "source": [
    "Use a dropout rate of 0.5 for the hidden layer."
   ]
  },
  {
   "cell_type": "code",
   "execution_count": 122,
   "metadata": {
    "id": "Bu9ZjwYgh6qB"
   },
   "outputs": [],
   "source": [
    "#build a model with dropout regularizer\n",
    "\n",
    "model = Sequential([\n",
    "                    Flatten(input_shape = (784, )),\n",
    "                    Dense(64, activation='relu'),\n",
    "                    Dropout(0.5), #dropout rate \n",
    "                    Dense(10, activation = 'softmax')\n",
    "])\n",
    "    "
   ]
  },
  {
   "cell_type": "code",
   "execution_count": 123,
   "metadata": {
    "id": "iA9_8IwMh9VL"
   },
   "outputs": [],
   "source": [
    "# compile the model\n",
    "\n",
    "model.compile(\n",
    "     optimizer = tf.keras.optimizers.Adam(learning_rate = 0.005),\n",
    "     loss = 'sparse_categorical_crossentropy', # Use this loss function when the y labels are integers. \n",
    "     metrics = [tf.keras.metrics.SparseCategoricalAccuracy()] # Use this accuracy when the y labels are integers.\n",
    " )"
   ]
  },
  {
   "cell_type": "code",
   "execution_count": 124,
   "metadata": {
    "id": "dLxZ8BCpkJVJ"
   },
   "outputs": [],
   "source": [
    "# fit the model with validation set\n",
    "\n",
    "history = model.fit(X_train, y_train, epochs = 25, batch_size = 256, verbose = False, validation_split=0.2) "
   ]
  },
  {
   "cell_type": "code",
   "execution_count": 125,
   "metadata": {
    "colab": {
     "base_uri": "https://localhost:8080/",
     "height": 295
    },
    "id": "F4baYo3gkPse",
    "outputId": "371faaa5-0e2d-4f4b-9878-e845a8b7c8c1"
   },
   "outputs": [
    {
     "data": {
      "image/png": "[encoded data removed]",
      "text/plain": [
       "<Figure size 432x288 with 1 Axes>"
      ]
     },
     "metadata": {
      "needs_background": "light"
     },
     "output_type": "display_data"
    }
   ],
   "source": [
    "# Plot the training and validation loss\n",
    "\n",
    "plt.plot(history.history['loss'])\n",
    "plt.plot(history.history['val_loss'])\n",
    "plt.title('Loss vs. epochs')\n",
    "plt.ylabel('Loss')\n",
    "plt.xlabel('Epoch')\n",
    "plt.legend(['Training', 'Validation'], loc='upper right')\n",
    "plt.show()"
   ]
  },
  {
   "cell_type": "markdown",
   "metadata": {
    "id": "KMP2djAnhaoH"
   },
   "source": [
    "How is the overfitting situation?"
   ]
  },
  {
   "cell_type": "code",
   "execution_count": null,
   "metadata": {
    "id": "rgglNKWAhcTR"
   },
   "outputs": [],
   "source": [
    "#This is an underfit situation."
   ]
  },
  {
   "cell_type": "markdown",
   "metadata": {
    "id": "MZjjsisuCovI"
   },
   "source": [
    "# 12) Reduce Overfit - Early Stopping"
   ]
  },
  {
   "cell_type": "markdown",
   "metadata": {
    "id": "cNm4NdpMlTKr"
   },
   "source": [
    "Set your early stopping to monitor the validation loss. We want an improvment of at least 0.02 at each epoch. Set the patience to 5. "
   ]
  },
  {
   "cell_type": "code",
   "execution_count": 126,
   "metadata": {
    "id": "DkK2tRKtlRH0"
   },
   "outputs": [],
   "source": [
    "#set early stopping\n",
    "\n",
    "early_stopping = tf.keras.callbacks.EarlyStopping(monitor='val_loss', min_delta=0.01, patience=5) "
   ]
  },
  {
   "cell_type": "code",
   "execution_count": 127,
   "metadata": {
    "id": "slxhuaBGk5bJ"
   },
   "outputs": [],
   "source": [
    "# build the original model without L2 or dropout regularization\n",
    "\n",
    "model = Sequential([\n",
    "                   Flatten(input_shape = (784, )),\n",
    "                   Dense(64, activation = 'relu'),\n",
    "                   Dense(10, activation = 'softmax')\n",
    "])"
   ]
  },
  {
   "cell_type": "code",
   "execution_count": 128,
   "metadata": {
    "id": "EDRqusAok5KQ"
   },
   "outputs": [],
   "source": [
    "# compile the model\n",
    "\n",
    "model.compile(\n",
    "     optimizer = tf.keras.optimizers.Adam(learning_rate = 0.005),\n",
    "     loss = 'sparse_categorical_crossentropy', # Use this loss function when the y labels are integers. \n",
    "     metrics = [tf.keras.metrics.SparseCategoricalAccuracy()] # Use this accuracy when the y labels are integers.\n",
    " )"
   ]
  },
  {
   "cell_type": "code",
   "execution_count": 129,
   "metadata": {
    "colab": {
     "base_uri": "https://localhost:8080/"
    },
    "id": "ypI8fyVYk46j",
    "outputId": "e78aa9cb-5ba2-48be-d7ed-d8276f122041"
   },
   "outputs": [
    {
     "name": "stdout",
     "output_type": "stream",
     "text": [
      "Epoch 1/25\n",
      "150/150 - 1s - loss: 0.3686 - sparse_categorical_accuracy: 0.8950 - val_loss: 0.2188 - val_sparse_categorical_accuracy: 0.9371 - 1s/epoch - 10ms/step\n",
      "Epoch 2/25\n",
      "150/150 - 1s - loss: 0.1810 - sparse_categorical_accuracy: 0.9465 - val_loss: 0.1668 - val_sparse_categorical_accuracy: 0.9514 - 1s/epoch - 7ms/step\n",
      "Epoch 3/25\n",
      "150/150 - 1s - loss: 0.1299 - sparse_categorical_accuracy: 0.9616 - val_loss: 0.1488 - val_sparse_categorical_accuracy: 0.9563 - 1s/epoch - 8ms/step\n",
      "Epoch 4/25\n",
      "150/150 - 1s - loss: 0.1021 - sparse_categorical_accuracy: 0.9691 - val_loss: 0.1240 - val_sparse_categorical_accuracy: 0.9625 - 1s/epoch - 9ms/step\n",
      "Epoch 5/25\n",
      "150/150 - 1s - loss: 0.0817 - sparse_categorical_accuracy: 0.9754 - val_loss: 0.1145 - val_sparse_categorical_accuracy: 0.9664 - 1s/epoch - 8ms/step\n",
      "Epoch 6/25\n",
      "150/150 - 1s - loss: 0.0684 - sparse_categorical_accuracy: 0.9787 - val_loss: 0.1211 - val_sparse_categorical_accuracy: 0.9635 - 823ms/epoch - 5ms/step\n",
      "Epoch 7/25\n",
      "150/150 - 1s - loss: 0.0564 - sparse_categorical_accuracy: 0.9821 - val_loss: 0.1113 - val_sparse_categorical_accuracy: 0.9675 - 798ms/epoch - 5ms/step\n",
      "Epoch 8/25\n",
      "150/150 - 1s - loss: 0.0454 - sparse_categorical_accuracy: 0.9862 - val_loss: 0.1129 - val_sparse_categorical_accuracy: 0.9690 - 721ms/epoch - 5ms/step\n",
      "Epoch 9/25\n",
      "150/150 - 1s - loss: 0.0404 - sparse_categorical_accuracy: 0.9874 - val_loss: 0.1135 - val_sparse_categorical_accuracy: 0.9695 - 1s/epoch - 8ms/step\n",
      "Epoch 10/25\n",
      "150/150 - 1s - loss: 0.0328 - sparse_categorical_accuracy: 0.9902 - val_loss: 0.1301 - val_sparse_categorical_accuracy: 0.9653 - 756ms/epoch - 5ms/step\n",
      "Epoch 11/25\n",
      "150/150 - 1s - loss: 0.0308 - sparse_categorical_accuracy: 0.9907 - val_loss: 0.1181 - val_sparse_categorical_accuracy: 0.9668 - 750ms/epoch - 5ms/step\n",
      "Epoch 12/25\n",
      "150/150 - 1s - loss: 0.0261 - sparse_categorical_accuracy: 0.9921 - val_loss: 0.1265 - val_sparse_categorical_accuracy: 0.9686 - 816ms/epoch - 5ms/step\n"
     ]
    }
   ],
   "source": [
    "# fit the model with validation set and earlystopping\n",
    "\n",
    "history = model.fit(X_train, y_train, epochs = 25, batch_size = 256, verbose = 2, validation_split=0.2,\n",
    "                    callbacks=[early_stopping]) "
   ]
  },
  {
   "cell_type": "code",
   "execution_count": 130,
   "metadata": {
    "colab": {
     "base_uri": "https://localhost:8080/",
     "height": 295
    },
    "id": "uQTP5BLsk3jr",
    "outputId": "7751ff1a-a8b9-45cd-cbcb-42ebad753d72"
   },
   "outputs": [
    {
     "data": {
      "image/png": "[encoded data removed]",
      "text/plain": [
       "<Figure size 432x288 with 1 Axes>"
      ]
     },
     "metadata": {
      "needs_background": "light"
     },
     "output_type": "display_data"
    }
   ],
   "source": [
    "# Plot the training and validation loss\n",
    "\n",
    "plt.plot(history.history['loss'])\n",
    "plt.plot(history.history['val_loss'])\n",
    "plt.title('Loss vs. epochs')\n",
    "plt.ylabel('Loss')\n",
    "plt.xlabel('Epoch')\n",
    "plt.legend(['Training', 'Validation'], loc='upper right')\n",
    "plt.show()"
   ]
  },
  {
   "cell_type": "markdown",
   "metadata": {
    "id": "y3TxujXNhYvE"
   },
   "source": [
    "How is the overfitting situation?"
   ]
  },
  {
   "cell_type": "code",
   "execution_count": null,
   "metadata": {
    "id": "9YvuQmTGhdA5"
   },
   "outputs": [],
   "source": [
    "#Duing the first iteration, it was better but there is overfit later."
   ]
  }
 ],
 "metadata": {
  "colab": {
   "collapsed_sections": [],
   "name": "12 - Tensorflow - Practice.ipynb",
   "provenance": [],
   "toc_visible": true
  },
  "kernelspec": {
   "display_name": "Python 3 (ipykernel)",
   "language": "python",
   "name": "python3"
  },
  "language_info": {
   "codemirror_mode": {
    "name": "ipython",
    "version": 3
   },
   "file_extension": ".py",
   "mimetype": "text/x-python",
   "name": "python",
   "nbconvert_exporter": "python",
   "pygments_lexer": "ipython3",
   "version": "3.9.6"
  }
 },
 "nbformat": 4,
 "nbformat_minor": 1
}
